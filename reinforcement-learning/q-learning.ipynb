{
 "cells": [
  {
   "cell_type": "markdown",
   "metadata": {},
   "source": [
    "# Q-Learning\n",
    "\n",
    "\"Q-learning is a **model-free reinforcement learning algorithm** to learn quality of actions telling an agent what action to take under what circumstances. It does not require a model (hence the connotation \"model-free\") of the environment, and it can handle problems with stochastic transitions and rewards, without requiring adaptations.\" [Wikipedia](https://en.wikipedia.org/wiki/Q-learning)\n",
    "\n",
    "<img src=\"../images/q-learning.png\" width=\"250\" height=\"300\">\n",
    "\n",
    "**Getting start**"
   ]
  },
  {
   "cell_type": "code",
   "execution_count": 1,
   "metadata": {},
   "outputs": [
    {
     "name": "stdout",
     "output_type": "stream",
     "text": [
      "Python 3.7.3\r\n"
     ]
    }
   ],
   "source": [
    "# checking python version\n",
    "!python -V"
   ]
  },
  {
   "cell_type": "code",
   "execution_count": 2,
   "metadata": {},
   "outputs": [],
   "source": [
    "# installing OpenAI's gym\n",
    "# ! pip install gym"
   ]
  },
  {
   "cell_type": "markdown",
   "metadata": {},
   "source": [
    "**The Environment**"
   ]
  },
  {
   "cell_type": "code",
   "execution_count": 3,
   "metadata": {},
   "outputs": [],
   "source": [
    "# importing labraries & packages \n",
    "import gym\n",
    "import numpy as np"
   ]
  },
  {
   "cell_type": "code",
   "execution_count": 4,
   "metadata": {},
   "outputs": [
    {
     "name": "stdout",
     "output_type": "stream",
     "text": [
      "3\n"
     ]
    }
   ],
   "source": [
    "# checking gym env action\n",
    "env = gym.make(\"MountainCar-v0\")\n",
    "print(env.action_space.n)"
   ]
  },
  {
   "cell_type": "markdown",
   "metadata": {},
   "source": [
    "The enviorment is made of **States** and **Actions**. **States** are observations and samples from the environment. **Actions** are the choices the agent make based on the observation.\n",
    "\n",
    "As we see above, there are 3 **actions** in this environment and they can be:\n",
    "\n",
    "* **0** = push left\n",
    "- **1** = stay still\n",
    "- **2** = push right"
   ]
  },
  {
   "cell_type": "code",
   "execution_count": 5,
   "metadata": {},
   "outputs": [],
   "source": [
    "# NOTE: uncomment the cell to run the video\n",
    "# testing the environment\n",
    "# env = gym.make(\"MountainCar-v0\")\n",
    "# env.reset()\n",
    "\n",
    "# complete = False\n",
    "# while not complete:\n",
    "#     action = 2  \n",
    "#     env.step(action)\n",
    "#     env.render()"
   ]
  },
  {
   "cell_type": "markdown",
   "metadata": {},
   "source": [
    "The car does not have power enought to go right (and up).\n",
    "\n",
    "\n",
    "<img src=\"../images/car-image-right.png\" width=\"300\" height=\"380\">"
   ]
  },
  {
   "cell_type": "code",
   "execution_count": 6,
   "metadata": {},
   "outputs": [
    {
     "name": "stdout",
     "output_type": "stream",
     "text": [
      "[-0.40816819  0.        ]\n"
     ]
    }
   ],
   "source": [
    "# checking the starting observation state\n",
    "env = gym.make(\"MountainCar-v0\")\n",
    "print(env.reset())"
   ]
  },
  {
   "cell_type": "code",
   "execution_count": 7,
   "metadata": {
    "scrolled": false
   },
   "outputs": [
    {
     "name": "stdout",
     "output_type": "stream",
     "text": [
      "-1.0 [-0.56318086  0.00130589]\n",
      "-1.0 [-0.5605788   0.00260206]\n",
      "-1.0 [-0.55669996  0.00387884]\n",
      "-1.0 [-0.55157327  0.00512669]\n",
      "-1.0 [-0.54523701  0.00633625]\n",
      "-1.0 [-0.53773858  0.00749843]\n",
      "-1.0 [-0.52913414  0.00860444]\n",
      "-1.0 [-0.51948818  0.00964596]\n",
      "-1.0 [-0.50887305  0.01061513]\n",
      "-1.0 [-0.49736833  0.01150472]\n",
      "-1.0 [-0.48506013  0.0123082 ]\n",
      "-1.0 [-0.47204033  0.0130198 ]\n",
      "-1.0 [-0.45840568  0.01363465]\n",
      "-1.0 [-0.44425687  0.01414882]\n",
      "-1.0 [-0.42969751  0.01455935]\n",
      "-1.0 [-0.41483314  0.01486437]\n",
      "-1.0 [-0.39977011  0.01506303]\n",
      "-1.0 [-0.38461458  0.01515553]\n",
      "-1.0 [-0.3694715   0.01514309]\n",
      "-1.0 [-0.35444361  0.01502788]\n",
      "-1.0 [-0.33963064  0.01481298]\n",
      "-1.0 [-0.32512844  0.0145022 ]\n",
      "-1.0 [-0.31102836  0.01410008]\n",
      "-1.0 [-0.29741667  0.01361168]\n",
      "-1.0 [-0.28437415  0.01304253]\n",
      "-1.0 [-0.2719757   0.01239844]\n",
      "-1.0 [-0.26029025  0.01168546]\n",
      "-1.0 [-0.24938054  0.01090971]\n",
      "-1.0 [-0.23930322  0.01007732]\n",
      "-1.0 [-0.23010885  0.00919436]\n",
      "-1.0 [-0.22184208  0.00826677]\n",
      "-1.0 [-0.21454179  0.00730029]\n",
      "-1.0 [-0.20824132  0.00630048]\n",
      "-1.0 [-0.20296865  0.00527266]\n",
      "-1.0 [-0.19874667  0.00422198]\n",
      "-1.0 [-0.19559333  0.00315335]\n",
      "-1.0 [-0.1935218   0.00207153]\n",
      "-1.0 [-0.19254066  0.00098115]\n",
      "-1.0 [-1.92653918e-01 -1.13263253e-04]\n",
      "-1.0 [-0.19386113 -0.00120721]\n",
      "-1.0 [-0.19615732 -0.00229619]\n",
      "-1.0 [-0.19953299 -0.00337567]\n",
      "-1.0 [-0.20397397 -0.00444098]\n",
      "-1.0 [-0.20946131 -0.00548735]\n",
      "-1.0 [-0.21597111 -0.00650979]\n",
      "-1.0 [-0.22347426 -0.00750315]\n",
      "-1.0 [-0.23193631 -0.00846205]\n",
      "-1.0 [-0.2413172  -0.00938089]\n",
      "-1.0 [-0.25157108 -0.01025388]\n",
      "-1.0 [-0.26264613 -0.01107505]\n",
      "-1.0 [-0.27448444 -0.01183832]\n",
      "-1.0 [-0.28702199 -0.01253755]\n",
      "-1.0 [-0.30018861 -0.01316662]\n",
      "-1.0 [-0.31390815 -0.01371954]\n",
      "-1.0 [-0.32809867 -0.01419052]\n",
      "-1.0 [-0.34267282 -0.01457415]\n",
      "-1.0 [-0.35753826 -0.01486544]\n",
      "-1.0 [-0.37259827 -0.01506001]\n",
      "-1.0 [-0.38775245 -0.01515418]\n",
      "-1.0 [-0.4028975  -0.01514505]\n",
      "-1.0 [-0.41792816 -0.01503066]\n",
      "-1.0 [-0.43273815 -0.01480998]\n",
      "-1.0 [-0.44722118 -0.01448303]\n",
      "-1.0 [-0.46127204 -0.01405086]\n",
      "-1.0 [-0.47478763 -0.01351559]\n",
      "-1.0 [-0.487668   -0.01288037]\n",
      "-1.0 [-0.49981733 -0.01214933]\n",
      "-1.0 [-0.51114487 -0.01132754]\n",
      "-1.0 [-0.5215658  -0.01042092]\n",
      "-1.0 [-0.53100196 -0.00943617]\n",
      "-1.0 [-0.53938261 -0.00838065]\n",
      "-1.0 [-0.54664493 -0.00726232]\n",
      "-1.0 [-0.55273454 -0.00608961]\n",
      "-1.0 [-0.5576059  -0.00487137]\n",
      "-1.0 [-0.56122266 -0.00361676]\n",
      "-1.0 [-0.56355783 -0.00233518]\n",
      "-1.0 [-0.56459403 -0.0010362 ]\n",
      "-1.0 [-5.64323543e-01  2.70490425e-04]\n",
      "-1.0 [-0.56274838  0.00157517]\n",
      "-1.0 [-0.55988026  0.00286811]\n",
      "-1.0 [-0.55574057  0.00413969]\n",
      "-1.0 [-0.55036019  0.00538038]\n",
      "-1.0 [-0.54377932  0.00658087]\n",
      "-1.0 [-0.53604719  0.00773214]\n",
      "-1.0 [-0.52722171  0.00882548]\n",
      "-1.0 [-0.51736906  0.00985265]\n",
      "-1.0 [-0.50656313  0.01080593]\n",
      "-1.0 [-0.49488492  0.01167822]\n",
      "-1.0 [-0.48242179  0.01246313]\n",
      "-1.0 [-0.4692667   0.01315509]\n",
      "-1.0 [-0.4555173  0.0137494]\n",
      "-1.0 [-0.44127498  0.01424233]\n",
      "-1.0 [-0.42664382  0.01463116]\n",
      "-1.0 [-0.41172961  0.01491421]\n",
      "-1.0 [-0.39663876  0.01509085]\n",
      "-1.0 [-0.38147726  0.0151615 ]\n",
      "-1.0 [-0.36634966  0.0151276 ]\n",
      "-1.0 [-0.35135817  0.01499149]\n",
      "-1.0 [-0.33660177  0.01475641]\n",
      "-1.0 [-0.32217543  0.01442634]\n",
      "-1.0 [-0.30816949  0.01400594]\n",
      "-1.0 [-0.29466912  0.01350037]\n",
      "-1.0 [-0.28175389  0.01291523]\n",
      "-1.0 [-0.2694975   0.01225639]\n",
      "-1.0 [-0.25796759  0.01152991]\n",
      "-1.0 [-0.24722565  0.01074194]\n",
      "-1.0 [-0.23732704  0.0098986 ]\n",
      "-1.0 [-0.22832111  0.00900593]\n",
      "-1.0 [-0.22025129  0.00806982]\n",
      "-1.0 [-0.21315529  0.007096  ]\n",
      "-1.0 [-0.20706533  0.00608996]\n",
      "-1.0 [-0.20200833  0.005057  ]\n",
      "-1.0 [-0.19800612  0.00400221]\n",
      "-1.0 [-0.19507566  0.00293046]\n",
      "-1.0 [-0.19322916  0.0018465 ]\n",
      "-1.0 [-0.19247425  0.00075491]\n",
      "-1.0 [-0.19281402 -0.00033977]\n",
      "-1.0 [-0.19424708 -0.00143306]\n",
      "-1.0 [-0.19676753 -0.00252045]\n",
      "-1.0 [-0.20036491 -0.00359738]\n",
      "-1.0 [-0.20502409 -0.00465917]\n",
      "-1.0 [-0.21072509 -0.005701  ]\n",
      "-1.0 [-0.21744295 -0.00671786]\n",
      "-1.0 [-0.2251475  -0.00770454]\n",
      "-1.0 [-0.23380312 -0.00865562]\n",
      "-1.0 [-0.24336858 -0.00956545]\n",
      "-1.0 [-0.25379679 -0.01042821]\n",
      "-1.0 [-0.2650347  -0.01123791]\n",
      "-1.0 [-0.27702313 -0.01198843]\n",
      "-1.0 [-0.28969678 -0.01267365]\n",
      "-1.0 [-0.30298423 -0.01328745]\n",
      "-1.0 [-0.31680812 -0.01382388]\n",
      "-1.0 [-0.33108535 -0.01427723]\n",
      "-1.0 [-0.34572749 -0.01464214]\n",
      "-1.0 [-0.36064125 -0.01491376]\n",
      "-1.0 [-0.37572909 -0.01508784]\n",
      "-1.0 [-0.39088993 -0.01516084]\n",
      "-1.0 [-0.40602    -0.01513007]\n",
      "-1.0 [-0.42101374 -0.01499374]\n",
      "-1.0 [-0.43576479 -0.01475104]\n",
      "-1.0 [-0.45016698 -0.0144022 ]\n",
      "-1.0 [-0.46411548 -0.01394849]\n",
      "-1.0 [-0.47750773 -0.01339225]\n",
      "-1.0 [-0.49024457 -0.01273684]\n",
      "-1.0 [-0.50223114 -0.01198658]\n",
      "-1.0 [-0.51337787 -0.01114672]\n",
      "-1.0 [-0.52360124 -0.01022337]\n",
      "-1.0 [-0.53282459 -0.00922335]\n",
      "-1.0 [-0.54097875 -0.00815416]\n",
      "-1.0 [-0.54800262 -0.00702387]\n",
      "-1.0 [-0.55384363 -0.00584101]\n",
      "-1.0 [-0.55845812 -0.00461448]\n",
      "-1.0 [-0.56181163 -0.00335351]\n",
      "-1.0 [-0.56387918 -0.00206755]\n",
      "-1.0 [-0.56464535 -0.00076618]\n",
      "-1.0 [-5.64104459e-01  5.40894630e-04]\n",
      "-1.0 [-0.56226052  0.00184394]\n",
      "-1.0 [-0.55912727  0.00313325]\n",
      "-1.0 [-0.55472805  0.00439921]\n",
      "-1.0 [-0.54909571  0.00563234]\n",
      "-1.0 [-0.54227233  0.00682338]\n",
      "-1.0 [-0.53430896  0.00796336]\n",
      "-1.0 [-0.52526529  0.00904367]\n",
      "-1.0 [-0.51520911  0.01005617]\n",
      "-1.0 [-0.50421586  0.01099326]\n",
      "-1.0 [-0.49236789  0.01184797]\n",
      "-1.0 [-0.47975381  0.01261408]\n",
      "-1.0 [-0.46646762  0.01328619]\n",
      "-1.0 [-0.45260782  0.0138598 ]\n",
      "-1.0 [-0.43827644  0.01433138]\n",
      "-1.0 [-0.42357801  0.01469843]\n",
      "-1.0 [-0.40861852  0.01495948]\n",
      "-1.0 [-0.39350439  0.01511413]\n",
      "-1.0 [-0.37834139  0.015163  ]\n",
      "-1.0 [-0.36323366  0.01510773]\n",
      "-1.0 [-0.34828281  0.01495085]\n",
      "-1.0 [-0.33358704  0.01469577]\n",
      "-1.0 [-0.31924043  0.01434661]\n",
      "-1.0 [-0.30533228  0.01390815]\n",
      "-1.0 [-0.29194663  0.01338565]\n",
      "-1.0 [-0.27916185  0.01278477]\n",
      "-1.0 [-0.26705042  0.01211144]\n",
      "-1.0 [-0.25567868  0.01137174]\n",
      "-1.0 [-0.24510687  0.01057181]\n",
      "-1.0 [-0.2353891   0.00971777]\n",
      "-1.0 [-0.22657346  0.00881563]\n",
      "-1.0 [-0.2187022   0.00787126]\n",
      "-1.0 [-0.21181187  0.00689033]\n",
      "-1.0 [-0.20593357  0.0058783 ]\n",
      "-1.0 [-0.20109316  0.00484041]\n",
      "-1.0 [-0.19731145  0.00378171]\n",
      "-1.0 [-0.19460439  0.00270706]\n",
      "-1.0 [-0.19298326  0.00162114]\n",
      "-1.0 [-0.19245471  0.00052854]\n",
      "-1.0 [-0.19302093 -0.00056622]\n",
      "-1.0 [-0.19467959 -0.00165866]\n",
      "-1.0 [-0.19742385 -0.00274426]\n",
      "-1.0 [-0.2012423  -0.00381845]\n",
      "-1.0 [-0.20611881 -0.00487651]\n",
      "-1.0 [-0.21203241 -0.00591359]\n"
     ]
    }
   ],
   "source": [
    "# checking reward and observations\n",
    "env = gym.make(\"MountainCar-v0\")\n",
    "state = env.reset()\n",
    "\n",
    "complete = False\n",
    "while not complete:\n",
    "    action = 2\n",
    "    new_state, reward, complete, _ = env.step(action)\n",
    "    print(reward, new_state)"
   ]
  },
  {
   "cell_type": "code",
   "execution_count": 8,
   "metadata": {},
   "outputs": [
    {
     "name": "stdout",
     "output_type": "stream",
     "text": [
      "[0.6  0.07]\n",
      "[-1.2  -0.07]\n"
     ]
    }
   ],
   "source": [
    "# printing observ. low and high to get an idea \n",
    "print(env.observation_space.high)\n",
    "print(env.observation_space.low)"
   ]
  },
  {
   "cell_type": "code",
   "execution_count": 9,
   "metadata": {},
   "outputs": [
    {
     "name": "stdout",
     "output_type": "stream",
     "text": [
      "[0.09  0.007]\n"
     ]
    }
   ],
   "source": [
    "# defining range\n",
    "SIZE = [20, 20]\n",
    "discrete_size = (env.observation_space.high - env.observation_space.low)/SIZE\n",
    "print(discrete_size)"
   ]
  },
  {
   "cell_type": "code",
   "execution_count": 10,
   "metadata": {},
   "outputs": [],
   "source": [
    "# building a q-table\n",
    "q_table = np.random.uniform(low=-2, \n",
    "                            high=0, \n",
    "                            size=(SIZE + [env.action_space.n]))"
   ]
  },
  {
   "cell_type": "code",
   "execution_count": 11,
   "metadata": {},
   "outputs": [
    {
     "data": {
      "text/plain": [
       "array([[[-1.72337399, -0.50899528, -1.72069667],\n",
       "        [-0.1120344 , -0.77771319, -0.90070945],\n",
       "        [-1.69922035, -0.18103912, -0.81326792],\n",
       "        [-0.13401867, -1.06787684, -0.09520315],\n",
       "        [-0.83596025, -0.81115752, -1.88672218],\n",
       "        [-0.98021965, -0.94440693, -1.91847951],\n",
       "        [-0.34060962, -1.52456608, -1.2638455 ],\n",
       "        [-1.94535984, -0.07379877, -1.40099371],\n",
       "        [-1.15004796, -0.07345389, -1.55533996],\n",
       "        [-0.7876061 , -1.47409822, -0.68716592],\n",
       "        [-0.17304745, -1.33138205, -1.70853718],\n",
       "        [-1.28376421, -0.24485188, -1.53111832],\n",
       "        [-1.85772   , -1.05173408, -0.92245159],\n",
       "        [-0.61578232, -0.41096098, -0.83505421],\n",
       "        [-0.58237963, -0.5341208 , -1.92148989],\n",
       "        [-1.16763046, -0.30087374, -1.00310454],\n",
       "        [-1.09472774, -1.42432298, -1.81899296],\n",
       "        [-1.08570785, -1.60949437, -0.30148313],\n",
       "        [-0.70716094, -1.64700403, -1.86202427],\n",
       "        [-1.96238603, -0.34880577, -0.49629219]]])"
      ]
     },
     "execution_count": 11,
     "metadata": {},
     "output_type": "execute_result"
    }
   ],
   "source": [
    "# checking table\n",
    "q_table[:1]"
   ]
  },
  {
   "cell_type": "code",
   "execution_count": 12,
   "metadata": {
    "scrolled": true
   },
   "outputs": [
    {
     "name": "stdout",
     "output_type": "stream",
     "text": [
      "0\n",
      "300\n",
      "600\n",
      "900\n",
      "1200\n",
      "1500\n",
      "1800\n",
      "2100\n",
      "2400\n"
     ]
    }
   ],
   "source": [
    "# getting the car to the flag\n",
    "env = gym.make(\"MountainCar-v0\")\n",
    "LEARNING_RATE = 0.1\n",
    "DISCOUNT = 0.95\n",
    "EPISODES = 2500\n",
    "SHOW_EVERY = 300\n",
    "DISCRETE_OS_SIZE = [20, 20]\n",
    "discrete_os_win_size = (env.observation_space.high - env.observation_space.low)/DISCRETE_OS_SIZE\n",
    "\n",
    "# settings\n",
    "epsilon = 1 \n",
    "START_EPSILON_DECAYING = 1\n",
    "END_EPSILON_DECAYING = EPISODES//2\n",
    "epsilon_decay_value = epsilon/(END_EPSILON_DECAYING - START_EPSILON_DECAYING)\n",
    "\n",
    "# building a q-table\n",
    "q_table = np.random.uniform(low=-2, high=0, size=(DISCRETE_OS_SIZE + [env.action_space.n]))\n",
    "\n",
    "def get_discrete_state(state):\n",
    "    discrete_state = (state - env.observation_space.low)/discrete_os_win_size\n",
    "    return tuple(discrete_state.astype(np.int)) \n",
    "\n",
    "for episode in range(EPISODES):\n",
    "    discrete_state = get_discrete_state(env.reset())\n",
    "    done = False\n",
    "    if episode % SHOW_EVERY == 0:\n",
    "        render = True\n",
    "        print(episode)\n",
    "    else:\n",
    "        render = False\n",
    "\n",
    "    while not done:\n",
    "        if np.random.random() > epsilon:\n",
    "            # getting action from Q table\n",
    "            action = np.argmax(q_table[discrete_state])\n",
    "        else:\n",
    "            # getting random action\n",
    "            action = np.random.randint(0, env.action_space.n)\n",
    "        new_state, reward, done, _ = env.step(action)\n",
    "        new_discrete_state = get_discrete_state(new_state)\n",
    "        if episode % SHOW_EVERY == 0:\n",
    "            env.render()\n",
    "        if not done:\n",
    "            max_future_q = np.max(q_table[new_discrete_state])\n",
    "            current_q = q_table[discrete_state + (action,)]\n",
    "            new_q = (1 - LEARNING_RATE) * current_q + LEARNING_RATE * (reward + DISCOUNT * max_future_q)\n",
    "            q_table[discrete_state + (action,)] = new_q\n",
    "        elif new_state[0] >= env.goal_position:\n",
    "            q_table[discrete_state + (action,)] = 0\n",
    "        discrete_state = new_discrete_state\n",
    "        if END_EPSILON_DECAYING >= episode >= START_EPSILON_DECAYING:\n",
    "            epsilon -= epsilon_decay_value\n",
    "\n",
    "\n",
    "env.close()"
   ]
  },
  {
   "cell_type": "markdown",
   "metadata": {},
   "source": [
    "Cool! The car moves randonly until it hits the flag.\n",
    "\n",
    "<img src=\"../images/car-image-right-full.png\" width=\"300\" height=\"380\">"
   ]
  },
  {
   "cell_type": "markdown",
   "metadata": {},
   "source": [
    "Learning from [Pyton Programming](https://pythonprogramming.net/q-learning-algorithm-reinforcement-learning-python-tutorial/?completed=/q-learning-reinforcement-learning-python-tutorial/)."
   ]
  },
  {
   "cell_type": "code",
   "execution_count": null,
   "metadata": {},
   "outputs": [],
   "source": []
  }
 ],
 "metadata": {
  "kernelspec": {
   "display_name": "Python 3",
   "language": "python",
   "name": "python3"
  },
  "language_info": {
   "codemirror_mode": {
    "name": "ipython",
    "version": 3
   },
   "file_extension": ".py",
   "mimetype": "text/x-python",
   "name": "python",
   "nbconvert_exporter": "python",
   "pygments_lexer": "ipython3",
   "version": "3.7.3"
  }
 },
 "nbformat": 4,
 "nbformat_minor": 2
}
