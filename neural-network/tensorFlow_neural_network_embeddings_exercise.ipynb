{
 "cells": [
  {
   "cell_type": "markdown",
   "metadata": {},
   "source": [
    "# Neural Network Embeddings - Exercise"
   ]
  },
  {
   "cell_type": "code",
   "execution_count": 1,
   "metadata": {},
   "outputs": [],
   "source": [
    "# importing packages\n",
    "import tensorflow as tf\n",
    "import pandas as pd\n",
    "import matplotlib.pyplot as plt\n",
    "\n",
    "from tensorflow.keras.preprocessing.text import Tokenizer\n",
    "from tensorflow.keras.preprocessing.sequence import pad_sequences"
   ]
  },
  {
   "cell_type": "markdown",
   "metadata": {},
   "source": [
    "### Tweet Emotion data\n",
    "\n",
    "This is a dataset of 40,000 tweets labeled with one of 13 emotions:\n",
    "['empty', 'sadness', 'enthusiasm', 'neutral', 'worry', 'surprise',\n",
    "      'love', 'fun', 'hate', 'happiness', 'boredom', 'relief', 'anger']\n",
    "      \n",
    "Tokenize the data and train it, with a neural network, to  predict the category of a given tweet. "
   ]
  },
  {
   "cell_type": "code",
   "execution_count": 2,
   "metadata": {},
   "outputs": [],
   "source": [
    "# reading data\n",
    "text_data = pd.read_csv(\"./data/text_emotion.csv\")\n",
    "\n",
    "# transforming string labels to integers\n",
    "text_data[\"sentiment\"] = text_data[\"sentiment\"].map({'empty':0, 'sadness':1, 'enthusiasm':2, 'neutral':3, 'worry':4, 'surprise':5,'love':6, 'fun':7, 'hate':8, 'happiness':9, 'boredom':10, 'relief':11, 'anger':12})\n",
    "\n",
    "# defining data sets for train and test\n",
    "train_text = text_data[\"content\"].values[:20000]\n",
    "test_text = text_data[\"content\"].values[20000:]\n",
    "\n",
    "# defining labels labels sets\n",
    "train_text_labels = text_data[\"sentiment\"].values[:20000]\n",
    "test_text_labels = text_data[\"sentiment\"].values[20000:]"
   ]
  },
  {
   "cell_type": "code",
   "execution_count": 3,
   "metadata": {},
   "outputs": [
    {
     "name": "stdout",
     "output_type": "stream",
     "text": [
      "['@tiffanylue i know  i was listenin to bad habit earlier and i started freakin at his part =['\n",
      " 'Layin n bed with a headache  ughhhh...waitin on your call...'\n",
      " 'Funeral ceremony...gloomy friday...'\n",
      " 'wants to hang out with friends SOON!'\n",
      " '@dannycastillo We want to trade with someone who has Houston tickets, but no one will.']\n"
     ]
    }
   ],
   "source": [
    "# checking tweets\n",
    "print(train_text[:5])"
   ]
  },
  {
   "cell_type": "markdown",
   "metadata": {},
   "source": [
    "### Hyperparameters"
   ]
  },
  {
   "cell_type": "code",
   "execution_count": 4,
   "metadata": {},
   "outputs": [],
   "source": [
    "# creating a list of hyperparameters for tuning the model\n",
    "vocab_size = 10000\n",
    "embedding_dim = 16\n",
    "max_length = 32\n",
    "trunc_type = \"post\"\n",
    "padding_type = \"post\"\n",
    "oov_token = \"<oov>\""
   ]
  },
  {
   "cell_type": "markdown",
   "metadata": {},
   "source": [
    "### Tokenize the dataset"
   ]
  },
  {
   "cell_type": "code",
   "execution_count": 5,
   "metadata": {},
   "outputs": [],
   "source": [
    "# defining tokenizer\n",
    "tokenizer = Tokenizer(num_words=vocab_size, oov_token=oov_token)\n",
    "tokenizer.fit_on_texts(train_text)\n",
    "\n",
    "word_index = tokenizer.word_index\n",
    "\n",
    "training_sequences = tokenizer.texts_to_sequences(train_text)\n",
    "training_padded = pad_sequences(training_sequences, maxlen=max_length, \n",
    "                                padding=padding_type, truncating=trunc_type)\n",
    "\n",
    "testing_sequences = tokenizer.texts_to_sequences(test_text)\n",
    "testing_padded = pad_sequences(testing_sequences, maxlen=max_length, \n",
    "                                padding=padding_type, truncating=trunc_type)"
   ]
  },
  {
   "cell_type": "markdown",
   "metadata": {},
   "source": [
    "### Creating a Neural Network with embeddings"
   ]
  },
  {
   "cell_type": "code",
   "execution_count": 6,
   "metadata": {},
   "outputs": [
    {
     "name": "stdout",
     "output_type": "stream",
     "text": [
      "Model: \"sequential\"\n",
      "_________________________________________________________________\n",
      "Layer (type)                 Output Shape              Param #   \n",
      "=================================================================\n",
      "embedding (Embedding)        (None, 32, 16)            160000    \n",
      "_________________________________________________________________\n",
      "global_average_pooling1d (Gl (None, 16)                0         \n",
      "_________________________________________________________________\n",
      "dense (Dense)                (None, 24)                408       \n",
      "_________________________________________________________________\n",
      "dense_1 (Dense)              (None, 13)                325       \n",
      "=================================================================\n",
      "Total params: 160,733\n",
      "Trainable params: 160,733\n",
      "Non-trainable params: 0\n",
      "_________________________________________________________________\n"
     ]
    }
   ],
   "source": [
    "# creating the model\n",
    "model = tf.keras.Sequential([\n",
    "    tf.keras.layers.Embedding(vocab_size, embedding_dim, input_length=max_length),\n",
    "    tf.keras.layers.GlobalAveragePooling1D(),\n",
    "    tf.keras.layers.Dense(24, activation = 'relu'),\n",
    "    tf.keras.layers.Dense(13, activation = 'softmax')\n",
    "])\n",
    "\n",
    "model.compile(loss='sparse_categorical_crossentropy',optimizer='adam',metrics=['accuracy'])\n",
    "model.summary()"
   ]
  },
  {
   "cell_type": "markdown",
   "metadata": {},
   "source": [
    "### Trainning the model"
   ]
  },
  {
   "cell_type": "code",
   "execution_count": 7,
   "metadata": {},
   "outputs": [
    {
     "name": "stdout",
     "output_type": "stream",
     "text": [
      "Train on 20000 samples, validate on 20000 samples\n",
      "Epoch 1/30\n",
      "20000/20000 - 2s - loss: 2.0294 - accuracy: 0.3097 - val_loss: 2.5794 - val_accuracy: 0.1121\n",
      "Epoch 2/30\n",
      "20000/20000 - 1s - loss: 1.9339 - accuracy: 0.3108 - val_loss: 2.5893 - val_accuracy: 0.1121\n",
      "Epoch 3/30\n",
      "20000/20000 - 1s - loss: 1.8977 - accuracy: 0.3255 - val_loss: 2.5018 - val_accuracy: 0.2194\n",
      "Epoch 4/30\n",
      "20000/20000 - 1s - loss: 1.8479 - accuracy: 0.3469 - val_loss: 2.4727 - val_accuracy: 0.2155\n",
      "Epoch 5/30\n",
      "20000/20000 - 1s - loss: 1.7847 - accuracy: 0.3724 - val_loss: 2.3767 - val_accuracy: 0.2348\n",
      "Epoch 6/30\n",
      "20000/20000 - 1s - loss: 1.7019 - accuracy: 0.4230 - val_loss: 2.3742 - val_accuracy: 0.2403\n",
      "Epoch 7/30\n",
      "20000/20000 - 1s - loss: 1.6209 - accuracy: 0.4572 - val_loss: 2.3341 - val_accuracy: 0.2544\n",
      "Epoch 8/30\n",
      "20000/20000 - 1s - loss: 1.5454 - accuracy: 0.4882 - val_loss: 2.3083 - val_accuracy: 0.2600\n",
      "Epoch 9/30\n",
      "20000/20000 - 1s - loss: 1.4742 - accuracy: 0.5155 - val_loss: 2.3764 - val_accuracy: 0.2549\n",
      "Epoch 10/30\n",
      "20000/20000 - 1s - loss: 1.4081 - accuracy: 0.5408 - val_loss: 2.3751 - val_accuracy: 0.2676\n",
      "Epoch 11/30\n",
      "20000/20000 - 1s - loss: 1.3479 - accuracy: 0.5599 - val_loss: 2.3954 - val_accuracy: 0.2655\n",
      "Epoch 12/30\n",
      "20000/20000 - 1s - loss: 1.2943 - accuracy: 0.5785 - val_loss: 2.4659 - val_accuracy: 0.2655\n",
      "Epoch 13/30\n",
      "20000/20000 - 1s - loss: 1.2471 - accuracy: 0.5915 - val_loss: 2.5384 - val_accuracy: 0.2637\n",
      "Epoch 14/30\n",
      "20000/20000 - 2s - loss: 1.2043 - accuracy: 0.6064 - val_loss: 2.5924 - val_accuracy: 0.2586\n",
      "Epoch 15/30\n",
      "20000/20000 - 1s - loss: 1.1658 - accuracy: 0.6187 - val_loss: 2.6355 - val_accuracy: 0.2614\n",
      "Epoch 16/30\n",
      "20000/20000 - 1s - loss: 1.1283 - accuracy: 0.6312 - val_loss: 2.7608 - val_accuracy: 0.2488\n",
      "Epoch 17/30\n",
      "20000/20000 - 1s - loss: 1.0956 - accuracy: 0.6410 - val_loss: 2.8376 - val_accuracy: 0.2306\n",
      "Epoch 18/30\n",
      "20000/20000 - 1s - loss: 1.0653 - accuracy: 0.6533 - val_loss: 2.8197 - val_accuracy: 0.2497\n",
      "Epoch 19/30\n",
      "20000/20000 - 1s - loss: 1.0372 - accuracy: 0.6621 - val_loss: 2.9941 - val_accuracy: 0.2475\n",
      "Epoch 20/30\n",
      "20000/20000 - 1s - loss: 1.0109 - accuracy: 0.6690 - val_loss: 2.9801 - val_accuracy: 0.2475\n",
      "Epoch 21/30\n",
      "20000/20000 - 1s - loss: 0.9859 - accuracy: 0.6791 - val_loss: 3.0305 - val_accuracy: 0.2472\n",
      "Epoch 22/30\n",
      "20000/20000 - 1s - loss: 0.9631 - accuracy: 0.6856 - val_loss: 3.2637 - val_accuracy: 0.2334\n",
      "Epoch 23/30\n",
      "20000/20000 - 1s - loss: 0.9407 - accuracy: 0.6949 - val_loss: 3.2557 - val_accuracy: 0.2350\n",
      "Epoch 24/30\n",
      "20000/20000 - 1s - loss: 0.9205 - accuracy: 0.7017 - val_loss: 3.2314 - val_accuracy: 0.2543\n",
      "Epoch 25/30\n",
      "20000/20000 - 1s - loss: 0.8996 - accuracy: 0.7095 - val_loss: 3.4140 - val_accuracy: 0.2368\n",
      "Epoch 26/30\n",
      "20000/20000 - 1s - loss: 0.8811 - accuracy: 0.7157 - val_loss: 3.5044 - val_accuracy: 0.2289\n",
      "Epoch 27/30\n",
      "20000/20000 - 1s - loss: 0.8605 - accuracy: 0.7215 - val_loss: 3.6610 - val_accuracy: 0.2114\n",
      "Epoch 28/30\n",
      "20000/20000 - 1s - loss: 0.8430 - accuracy: 0.7280 - val_loss: 3.6768 - val_accuracy: 0.2343\n",
      "Epoch 29/30\n",
      "20000/20000 - 1s - loss: 0.8246 - accuracy: 0.7327 - val_loss: 3.9243 - val_accuracy: 0.2146\n",
      "Epoch 30/30\n",
      "20000/20000 - 1s - loss: 0.8063 - accuracy: 0.7411 - val_loss: 3.9500 - val_accuracy: 0.2180\n"
     ]
    }
   ],
   "source": [
    "# training the model\n",
    "history = model.fit(training_padded, train_text_labels, epochs=30, \n",
    "                    validation_data=(testing_padded, test_text_labels), verbose=2)\n"
   ]
  },
  {
   "cell_type": "markdown",
   "metadata": {},
   "source": [
    "### Plotting the loss"
   ]
  },
  {
   "cell_type": "code",
   "execution_count": 8,
   "metadata": {},
   "outputs": [
    {
     "data": {
      "image/png": "[encoded data removed]",
      "text/plain": [
       "<Figure size 432x288 with 1 Axes>"
      ]
     },
     "metadata": {
      "needs_background": "light"
     },
     "output_type": "display_data"
    },
    {
     "data": {
      "image/png": "[encoded data removed]",
      "text/plain": [
       "<Figure size 432x288 with 1 Axes>"
      ]
     },
     "metadata": {
      "needs_background": "light"
     },
     "output_type": "display_data"
    }
   ],
   "source": [
    "# creating a fucntion to plot loss and accuracy\n",
    "def plot_graphs(history, string):\n",
    "    plt.plot(history.history[string])\n",
    "    plt.plot(history.history['val_'+string])\n",
    "    plt.title('Training and validation')\n",
    "    plt.xlabel('Epochs')\n",
    "    plt.ylabel(string)\n",
    "    plt.legend([string, 'val_'+string])\n",
    "    plt.show()\n",
    "\n",
    "plot_graphs(history, \"accuracy\")\n",
    "plot_graphs(history, \"loss\")"
   ]
  },
  {
   "cell_type": "code",
   "execution_count": null,
   "metadata": {},
   "outputs": [],
   "source": []
  }
 ],
 "metadata": {
  "kernelspec": {
   "display_name": "Python 3",
   "language": "python",
   "name": "python3"
  },
  "language_info": {
   "codemirror_mode": {
    "name": "ipython",
    "version": 3
   },
   "file_extension": ".py",
   "mimetype": "text/x-python",
   "name": "python",
   "nbconvert_exporter": "python",
   "pygments_lexer": "ipython3",
   "version": "3.7.3"
  }
 },
 "nbformat": 4,
 "nbformat_minor": 2
}
