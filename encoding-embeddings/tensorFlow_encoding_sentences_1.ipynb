{
 "cells": [
  {
   "cell_type": "markdown",
   "metadata": {},
   "source": [
    "# TensorFlow Encoding Sentences"
   ]
  },
  {
   "cell_type": "code",
   "execution_count": 1,
   "metadata": {},
   "outputs": [],
   "source": [
    "# importing packages\n",
    "import tensorflow as tf\n",
    "import nltk\n",
    "\n",
    "from tensorflow import keras\n",
    "from nltk import word_tokenize, sent_tokenize\n",
    "from tensorflow.keras.preprocessing.text import Tokenizer\n",
    "from tensorflow.keras.preprocessing.sequence import pad_sequences"
   ]
  },
  {
   "cell_type": "markdown",
   "metadata": {},
   "source": [
    "### Use the following document:"
   ]
  },
  {
   "cell_type": "code",
   "execution_count": 2,
   "metadata": {},
   "outputs": [
    {
     "data": {
      "text/plain": [
       "'Apple today unveiled completely redesigned Everyone Can Code curriculum to help introduce more elementary and middle school students to the world of coding. Now available, the new curriculum includes even more resources for teachers, a brand new guide for students and updated Swift Coding Club materials. Today millions of students worldwide already use Everyone Can Code curriculum to bring their ideas to life and develop important skills including creativity, collaboration and problem solving. '"
      ]
     },
     "execution_count": 2,
     "metadata": {},
     "output_type": "execute_result"
    }
   ],
   "source": [
    "# defining text\n",
    "document = \"Apple today unveiled completely redesigned Everyone Can Code curriculum to help introduce more elementary and middle school students to the world of coding. Now available, the new curriculum includes even more resources for teachers, a brand new guide for students and updated Swift Coding Club materials. Today millions of students worldwide already use Everyone Can Code curriculum to bring their ideas to life and develop important skills including creativity, collaboration and problem solving. \"\n",
    "document"
   ]
  },
  {
   "cell_type": "code",
   "execution_count": 3,
   "metadata": {},
   "outputs": [],
   "source": [
    "# creating a list of the separate sentences\n",
    "list_of_sentences = sent_tokenize(document)"
   ]
  },
  {
   "cell_type": "code",
   "execution_count": 4,
   "metadata": {},
   "outputs": [
    {
     "data": {
      "text/plain": [
       "['Apple today unveiled completely redesigned Everyone Can Code curriculum to help introduce more elementary and middle school students to the world of coding.',\n",
       " 'Now available, the new curriculum includes even more resources for teachers, a brand new guide for students and updated Swift Coding Club materials.',\n",
       " 'Today millions of students worldwide already use Everyone Can Code curriculum to bring their ideas to life and develop important skills including creativity, collaboration and problem solving.']"
      ]
     },
     "execution_count": 4,
     "metadata": {},
     "output_type": "execute_result"
    }
   ],
   "source": [
    "list_of_sentences"
   ]
  },
  {
   "cell_type": "markdown",
   "metadata": {},
   "source": [
    "### Tokenize the sentences"
   ]
  },
  {
   "cell_type": "code",
   "execution_count": 5,
   "metadata": {},
   "outputs": [],
   "source": [
    "# encodes the 100 most common words from the corpus of text\n",
    "tokenizer = Tokenizer(oov_token = \"<oov>\")\n",
    "\n",
    "# fit the Tokenizer to the data\n",
    "# strips out punctuation and converts to lowercase\n",
    "tokenizer.fit_on_texts(list_of_sentences)"
   ]
  },
  {
   "cell_type": "markdown",
   "metadata": {},
   "source": [
    "###  Create a word index"
   ]
  },
  {
   "cell_type": "code",
   "execution_count": 6,
   "metadata": {},
   "outputs": [
    {
     "name": "stdout",
     "output_type": "stream",
     "text": [
      "{'<oov>': 1, 'to': 2, 'and': 3, 'curriculum': 4, 'students': 5, 'today': 6, 'everyone': 7, 'can': 8, 'code': 9, 'more': 10, 'the': 11, 'of': 12, 'coding': 13, 'new': 14, 'for': 15, 'apple': 16, 'unveiled': 17, 'completely': 18, 'redesigned': 19, 'help': 20, 'introduce': 21, 'elementary': 22, 'middle': 23, 'school': 24, 'world': 25, 'now': 26, 'available': 27, 'includes': 28, 'even': 29, 'resources': 30, 'teachers': 31, 'a': 32, 'brand': 33, 'guide': 34, 'updated': 35, 'swift': 36, 'club': 37, 'materials': 38, 'millions': 39, 'worldwide': 40, 'already': 41, 'use': 42, 'bring': 43, 'their': 44, 'ideas': 45, 'life': 46, 'develop': 47, 'important': 48, 'skills': 49, 'including': 50, 'creativity': 51, 'collaboration': 52, 'problem': 53, 'solving': 54}\n",
      "54\n"
     ]
    }
   ],
   "source": [
    "# tokenizer creates a dictionary of key/value --> word/token pairs \n",
    "# word_index contains the dictionary\n",
    "word_index = tokenizer.word_index\n",
    "print(word_index)\n",
    "print(len(word_index))"
   ]
  },
  {
   "cell_type": "markdown",
   "metadata": {},
   "source": [
    "### Encode the sentences into sequences"
   ]
  },
  {
   "cell_type": "code",
   "execution_count": 7,
   "metadata": {},
   "outputs": [
    {
     "name": "stdout",
     "output_type": "stream",
     "text": [
      "[[16, 6, 17, 18, 19, 7, 8, 9, 4, 2, 20, 21, 10, 22, 3, 23, 24, 5, 2, 11, 25, 12, 13], [26, 27, 11, 14, 4, 28, 29, 10, 30, 15, 31, 32, 33, 14, 34, 15, 5, 3, 35, 36, 13, 37, 38], [6, 39, 12, 5, 40, 41, 42, 7, 8, 9, 4, 2, 43, 44, 45, 2, 46, 3, 47, 48, 49, 50, 51, 52, 3, 53, 54]]\n"
     ]
    }
   ],
   "source": [
    "# changing sentences into vectors (sequences)\n",
    "sequences = tokenizer.texts_to_sequences(list_of_sentences)\n",
    "print(sequences)"
   ]
  },
  {
   "cell_type": "markdown",
   "metadata": {},
   "source": [
    "###  Add padding to the sequences so that they are of equal length"
   ]
  },
  {
   "cell_type": "code",
   "execution_count": 8,
   "metadata": {},
   "outputs": [
    {
     "name": "stdout",
     "output_type": "stream",
     "text": [
      "[[16  6 17 18 19  7  8  9  4  2 20 21 10 22  3 23 24  5  2 11 25 12 13  0\n",
      "   0  0  0]\n",
      " [26 27 11 14  4 28 29 10 30 15 31 32 33 14 34 15  5  3 35 36 13 37 38  0\n",
      "   0  0  0]\n",
      " [ 6 39 12  5 40 41 42  7  8  9  4  2 43 44 45  2 46  3 47 48 49 50 51 52\n",
      "   3 53 54]]\n"
     ]
    }
   ],
   "source": [
    "# adding padding to create a matrix of equal-sized word vectors\n",
    "# padding is \"pre\" by default\n",
    "padded = pad_sequences(sequences, padding=\"post\")\n",
    "print(padded)"
   ]
  },
  {
   "cell_type": "markdown",
   "metadata": {},
   "source": [
    "### Provide your own Apple-related sentence, and encode it into a sequence"
   ]
  },
  {
   "cell_type": "code",
   "execution_count": 9,
   "metadata": {},
   "outputs": [
    {
     "data": {
      "text/plain": [
       "[[16, 1, 1, 1, 1, 1, 1, 39, 31, 3, 5, 1, 44, 1]]"
      ]
     },
     "execution_count": 9,
     "metadata": {},
     "output_type": "execute_result"
    }
   ],
   "source": [
    "# \"oov\" (out of vocabulary) words are assigned a 1\n",
    "my_sentence = \"Apple is an incredibly creative company with millions teachers and students using their products.\"\n",
    "tokenizer.texts_to_sequences([my_sentence])"
   ]
  },
  {
   "cell_type": "code",
   "execution_count": null,
   "metadata": {},
   "outputs": [],
   "source": []
  }
 ],
 "metadata": {
  "kernelspec": {
   "display_name": "Python 3",
   "language": "python",
   "name": "python3"
  },
  "language_info": {
   "codemirror_mode": {
    "name": "ipython",
    "version": 3
   },
   "file_extension": ".py",
   "mimetype": "text/x-python",
   "name": "python",
   "nbconvert_exporter": "python",
   "pygments_lexer": "ipython3",
   "version": "3.7.3"
  }
 },
 "nbformat": 4,
 "nbformat_minor": 2
}
