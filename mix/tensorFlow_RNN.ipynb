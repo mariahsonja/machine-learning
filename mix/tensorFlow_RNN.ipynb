{
 "cells": [
  {
   "cell_type": "markdown",
   "metadata": {},
   "source": [
    "# Recurrent Neural Network"
   ]
  },
  {
   "cell_type": "code",
   "execution_count": 1,
   "metadata": {},
   "outputs": [],
   "source": [
    "# importing packages & libraries\n",
    "import tensorflow as tf\n",
    "import pandas as pd\n",
    "import matplotlib.pyplot as plt\n",
    "\n",
    "from tensorflow.keras.preprocessing.text import Tokenizer\n",
    "from tensorflow.keras.preprocessing.sequence import pad_sequences\n",
    "\n",
    "%matplotlib inline"
   ]
  },
  {
   "cell_type": "markdown",
   "metadata": {},
   "source": [
    "## Get IMdb data"
   ]
  },
  {
   "cell_type": "code",
   "execution_count": 2,
   "metadata": {},
   "outputs": [],
   "source": [
    "# reading and processing data\n",
    "imdb_data = pd.read_csv(\"./data/IMDB Dataset.csv\")\n",
    "imdb_data[\"sentiment\"] = imdb_data[\"sentiment\"].map({\"positive\": 1, \"negative\":0})"
   ]
  },
  {
   "cell_type": "code",
   "execution_count": 3,
   "metadata": {},
   "outputs": [],
   "source": [
    "# defining train and test data sets\n",
    "imdb_train = imdb_data[\"review\"].values[:25000]\n",
    "imdb_test = imdb_data[\"review\"].values[25000:]\n",
    "\n",
    "imdb_train_labels = imdb_data[\"sentiment\"].values[:25000]\n",
    "imdb_test_labels = imdb_data[\"sentiment\"].values[25000:]"
   ]
  },
  {
   "cell_type": "code",
   "execution_count": 4,
   "metadata": {},
   "outputs": [
    {
     "data": {
      "text/plain": [
       "\"One of the other reviewers has mentioned that after watching just 1 Oz episode you'll be hooked. They are right, as this is exactly what happened with me.<br /><br />The first thing that struck me about Oz was its brutality and unflinching scenes of violence, which set in right from the word GO. Trust me, this is not a show for the faint hearted or timid. This show pulls no punches with regards to drugs, sex or violence. Its is hardcore, in the classic use of the word.<br /><br />It is called OZ as that is the nickname given to the Oswald Maximum Security State Penitentary. It focuses mainly on Emerald City, an experimental section of the prison where all the cells have glass fronts and face inwards, so privacy is not high on the agenda. Em City is home to many..Aryans, Muslims, gangstas, Latinos, Christians, Italians, Irish and more....so scuffles, death stares, dodgy dealings and shady agreements are never far away.<br /><br />I would say the main appeal of the show is due to the fact that it goes where other shows wouldn't dare. Forget pretty pictures painted for mainstream audiences, forget charm, forget romance...OZ doesn't mess around. The first episode I ever saw struck me as so nasty it was surreal, I couldn't say I was ready for it, but as I watched more, I developed a taste for Oz, and got accustomed to the high levels of graphic violence. Not just violence, but injustice (crooked guards who'll be sold out for a nickel, inmates who'll kill on order and get away with it, well mannered, middle class inmates being turned into prison bitches due to their lack of street skills or prison experience) Watching Oz, you may become comfortable with what is uncomfortable viewing....thats if you can get in touch with your darker side.\""
      ]
     },
     "execution_count": 4,
     "metadata": {},
     "output_type": "execute_result"
    }
   ],
   "source": [
    "# checking train data\n",
    "imdb_train[0]"
   ]
  },
  {
   "cell_type": "markdown",
   "metadata": {},
   "source": [
    "## Hyperparameters"
   ]
  },
  {
   "cell_type": "code",
   "execution_count": 5,
   "metadata": {},
   "outputs": [],
   "source": [
    "# listing hyperparameters makes it easier to quickly test different combinations\n",
    "# a shorter sentence than max_length it will be padded, longer sentences will be truncated\n",
    "vocab_size = 10000\n",
    "embedding_dim = 16\n",
    "max_length = 120  "
   ]
  },
  {
   "cell_type": "markdown",
   "metadata": {},
   "source": [
    "## Tokenize"
   ]
  },
  {
   "cell_type": "code",
   "execution_count": 6,
   "metadata": {},
   "outputs": [],
   "source": [
    "# defining tokenizer\n",
    "tokenizer = Tokenizer(num_words=10000, oov_token = \"<oov>\")\n",
    "tokenizer.fit_on_texts(imdb_train)\n",
    "word_index = tokenizer.word_index\n",
    "\n",
    "# converting words to numbers and pad for the neural network to use as input\n",
    "train_sequences = tokenizer.texts_to_sequences(imdb_train)\n",
    "train_padded = pad_sequences(train_sequences, maxlen=120, truncating=\"post\")\n",
    "\n",
    "# tokenized using the word_index learned from the training data\n",
    "testing_sequences = tokenizer.texts_to_sequences(imdb_test)\n",
    "test_padded = pad_sequences(testing_sequences, maxlen=120, truncating=\"post\")"
   ]
  },
  {
   "cell_type": "markdown",
   "metadata": {},
   "source": [
    "### Simple RNN"
   ]
  },
  {
   "cell_type": "code",
   "execution_count": 7,
   "metadata": {},
   "outputs": [
    {
     "name": "stdout",
     "output_type": "stream",
     "text": [
      "Model: \"sequential\"\n",
      "_________________________________________________________________\n",
      "Layer (type)                 Output Shape              Param #   \n",
      "=================================================================\n",
      "embedding (Embedding)        (None, None, 64)          640000    \n",
      "_________________________________________________________________\n",
      "simple_rnn (SimpleRNN)       (None, 256)               82176     \n",
      "_________________________________________________________________\n",
      "dense (Dense)                (None, 1)                 257       \n",
      "=================================================================\n",
      "Total params: 722,433\n",
      "Trainable params: 722,433\n",
      "Non-trainable params: 0\n",
      "_________________________________________________________________\n"
     ]
    }
   ],
   "source": [
    "# creasting model\n",
    "embedding_dim = 64\n",
    "\n",
    "model = tf.keras.Sequential([\n",
    "    tf.keras.layers.Embedding(vocab_size, embedding_dim),\n",
    "    tf.keras.layers.SimpleRNN(256),\n",
    "    tf.keras.layers.Dense(1, activation = 'sigmoid')])\n",
    "\n",
    "model.summary()"
   ]
  },
  {
   "cell_type": "code",
   "execution_count": 8,
   "metadata": {},
   "outputs": [],
   "source": [
    "# compiling model\n",
    "model.compile(loss='binary_crossentropy', optimizer='adam', metrics=['accuracy'])"
   ]
  },
  {
   "cell_type": "markdown",
   "metadata": {},
   "source": [
    "### Train the model"
   ]
  },
  {
   "cell_type": "code",
   "execution_count": 9,
   "metadata": {},
   "outputs": [
    {
     "name": "stdout",
     "output_type": "stream",
     "text": [
      "Train on 25000 samples, validate on 25000 samples\n",
      "Epoch 1/5\n",
      "25000/25000 [==============================] - 39s 2ms/sample - loss: 0.7018 - accuracy: 0.4985 - val_loss: 0.0275 - val_accuracy: 0.4646\n",
      "Epoch 2/5\n",
      "25000/25000 [==============================] - 39s 2ms/sample - loss: 0.6839 - accuracy: 0.5526 - val_loss: 0.0264 - val_accuracy: 0.5615\n",
      "Epoch 3/5\n",
      "25000/25000 [==============================] - 39s 2ms/sample - loss: 0.6166 - accuracy: 0.6510 - val_loss: 0.0273 - val_accuracy: 0.5479\n",
      "Epoch 4/5\n",
      "25000/25000 [==============================] - 39s 2ms/sample - loss: 0.5462 - accuracy: 0.7129 - val_loss: 0.0295 - val_accuracy: 0.5490\n",
      "Epoch 5/5\n",
      "25000/25000 [==============================] - 41s 2ms/sample - loss: 0.4778 - accuracy: 0.7637 - val_loss: 0.0304 - val_accuracy: 0.5875\n"
     ]
    }
   ],
   "source": [
    "# training model\n",
    "num_epochs = 5\n",
    "history = model.fit(train_padded, imdb_train_labels, epochs=num_epochs, \n",
    "                    validation_data=(test_padded, imdb_test_labels), validation_steps=30)"
   ]
  },
  {
   "cell_type": "markdown",
   "metadata": {},
   "source": [
    "### Make predictions on text samples"
   ]
  },
  {
   "cell_type": "code",
   "execution_count": 10,
   "metadata": {},
   "outputs": [
    {
     "name": "stdout",
     "output_type": "stream",
     "text": [
      "[[0.72785515]]\n"
     ]
    }
   ],
   "source": [
    "# predicting on a positive sample\n",
    "sample_text_to_predict = [\"The movie was cool. The animation and the graphics were out of this world. I would recommend this movie.\"]\n",
    "train_sequences = tokenizer.texts_to_sequences(sample_text_to_predict)\n",
    "pos_padded = pad_sequences(train_sequences, maxlen=20, truncating=\"post\")\n",
    "\n",
    "# making prediction\n",
    "prediction = model.predict(pos_padded)\n",
    "print(prediction)"
   ]
  },
  {
   "cell_type": "code",
   "execution_count": 11,
   "metadata": {},
   "outputs": [
    {
     "name": "stdout",
     "output_type": "stream",
     "text": [
      "[[0.5386647]]\n"
     ]
    }
   ],
   "source": [
    "# predicting on a negative sample\n",
    "sample_text_to_predict = [\"The movie was not good. The animation and the graphics were terrible. I would not recommend this movie.\"]\n",
    "train_sequences = tokenizer.texts_to_sequences(sample_text_to_predict)\n",
    "neg_padded = pad_sequences(train_sequences, maxlen=20, truncating=\"post\")\n",
    "\n",
    "# making prediction\n",
    "prediction = model.predict(neg_padded)\n",
    "print(prediction)"
   ]
  },
  {
   "cell_type": "markdown",
   "metadata": {},
   "source": [
    "### Plot Learning curves"
   ]
  },
  {
   "cell_type": "code",
   "execution_count": 12,
   "metadata": {},
   "outputs": [
    {
     "data": {
      "image/png": "[encoded data removed]",
      "text/plain": [
       "<Figure size 432x288 with 1 Axes>"
      ]
     },
     "metadata": {
      "needs_background": "light"
     },
     "output_type": "display_data"
    },
    {
     "data": {
      "image/png": "[encoded data removed]",
      "text/plain": [
       "<Figure size 432x288 with 1 Axes>"
      ]
     },
     "metadata": {
      "needs_background": "light"
     },
     "output_type": "display_data"
    }
   ],
   "source": [
    "# defining plot function\n",
    "def plot_graphs(history, string):\n",
    "    plt.plot(history.history[string])\n",
    "    plt.plot(history.history['val_'+ string])\n",
    "    plt.xlabel(\"Epochs\")\n",
    "    plt.ylabel(string)\n",
    "    plt.legend([string, 'val_'+string])\n",
    "    plt.show()\n",
    "             \n",
    "plot_graphs(history,'accuracy')\n",
    "plot_graphs(history, 'loss')"
   ]
  },
  {
   "cell_type": "markdown",
   "metadata": {},
   "source": [
    "## LSTM"
   ]
  },
  {
   "cell_type": "code",
   "execution_count": 13,
   "metadata": {},
   "outputs": [
    {
     "name": "stdout",
     "output_type": "stream",
     "text": [
      "Model: \"sequential_1\"\n",
      "_________________________________________________________________\n",
      "Layer (type)                 Output Shape              Param #   \n",
      "=================================================================\n",
      "embedding_1 (Embedding)      (None, None, 64)          640000    \n",
      "_________________________________________________________________\n",
      "lstm (LSTM)                  (None, 64)                33024     \n",
      "_________________________________________________________________\n",
      "dense_1 (Dense)              (None, 64)                4160      \n",
      "_________________________________________________________________\n",
      "dense_2 (Dense)              (None, 1)                 65        \n",
      "=================================================================\n",
      "Total params: 677,249\n",
      "Trainable params: 677,249\n",
      "Non-trainable params: 0\n",
      "_________________________________________________________________\n"
     ]
    }
   ],
   "source": [
    "# creating model\n",
    "model = tf.keras.Sequential([\n",
    "    tf.keras.layers.Embedding(vocab_size, 64),\n",
    "    tf.keras.layers.LSTM(64),\n",
    "    tf.keras.layers.Dense(64, activation = 'relu'),\n",
    "    tf.keras.layers.Dense(1, activation = 'sigmoid')])\n",
    "\n",
    "model.summary()"
   ]
  },
  {
   "cell_type": "code",
   "execution_count": 14,
   "metadata": {},
   "outputs": [],
   "source": [
    "# compiling model\n",
    "model.compile(loss='binary_crossentropy',\n",
    "              optimizer=tf.keras.optimizers.Adam(1e-4),\n",
    "              metrics=['accuracy'])"
   ]
  },
  {
   "cell_type": "markdown",
   "metadata": {},
   "source": [
    "### Train the model"
   ]
  },
  {
   "cell_type": "code",
   "execution_count": 15,
   "metadata": {},
   "outputs": [
    {
     "name": "stdout",
     "output_type": "stream",
     "text": [
      "Train on 25000 samples, validate on 25000 samples\n",
      "Epoch 1/5\n",
      "25000/25000 [==============================] - 43s 2ms/sample - loss: 0.5793 - accuracy: 0.6722 - val_loss: 0.0159 - val_accuracy: 0.8094\n",
      "Epoch 2/5\n",
      "25000/25000 [==============================] - 37s 1ms/sample - loss: 0.3503 - accuracy: 0.8552 - val_loss: 0.0141 - val_accuracy: 0.8271\n",
      "Epoch 3/5\n",
      "25000/25000 [==============================] - 34s 1ms/sample - loss: 0.2807 - accuracy: 0.8868 - val_loss: 0.0139 - val_accuracy: 0.8344\n",
      "Epoch 4/5\n",
      "25000/25000 [==============================] - 34s 1ms/sample - loss: 0.2403 - accuracy: 0.9076 - val_loss: 0.0163 - val_accuracy: 0.8177\n",
      "Epoch 5/5\n",
      "25000/25000 [==============================] - 34s 1ms/sample - loss: 0.2123 - accuracy: 0.9182 - val_loss: 0.0151 - val_accuracy: 0.8250\n"
     ]
    }
   ],
   "source": [
    "# training model\n",
    "epochs_num = 5\n",
    "history = model.fit(train_padded, imdb_train_labels, epochs=epochs_num,\n",
    "                    validation_data=(test_padded, imdb_test_labels), \n",
    "                    validation_steps=30)"
   ]
  },
  {
   "cell_type": "markdown",
   "metadata": {},
   "source": [
    "### Make predictions on text samples"
   ]
  },
  {
   "cell_type": "code",
   "execution_count": 16,
   "metadata": {},
   "outputs": [
    {
     "name": "stdout",
     "output_type": "stream",
     "text": [
      "[[0.58711165]]\n"
     ]
    }
   ],
   "source": [
    "# predicting on a positive sample\n",
    "sample_text_to_predict = [\"The movie was cool. The animation and the graphics were out of this world. I would recommend this movie.\"]\n",
    "train_sequences = tokenizer.texts_to_sequences(sample_text_to_predict)\n",
    "pos_padded = pad_sequences(train_sequences, maxlen=20, truncating=\"post\")\n",
    "\n",
    "# making prediction\n",
    "prediction = model.predict(pos_padded)\n",
    "print(prediction)"
   ]
  },
  {
   "cell_type": "code",
   "execution_count": 17,
   "metadata": {},
   "outputs": [
    {
     "name": "stdout",
     "output_type": "stream",
     "text": [
      "[[0.2192862]]\n"
     ]
    }
   ],
   "source": [
    "# predicting on a negative sample\n",
    "sample_text_to_predict = [\"The movie was not good. The animation and the graphics were terrible. I would not recommend this movie.\"]\n",
    "train_sequences = tokenizer.texts_to_sequences(sample_text_to_predict)\n",
    "neg_padded = pad_sequences(train_sequences, maxlen=20, truncating=\"post\")\n",
    "\n",
    "# making prediction\n",
    "prediction = model.predict(neg_padded)\n",
    "print(prediction)"
   ]
  },
  {
   "cell_type": "markdown",
   "metadata": {},
   "source": [
    "### Plot learning curves"
   ]
  },
  {
   "cell_type": "code",
   "execution_count": 18,
   "metadata": {},
   "outputs": [
    {
     "data": {
      "image/png": "[encoded data removed]",
      "text/plain": [
       "<Figure size 432x288 with 1 Axes>"
      ]
     },
     "metadata": {
      "needs_background": "light"
     },
     "output_type": "display_data"
    },
    {
     "data": {
      "image/png": "[encoded data removed]",
      "text/plain": [
       "<Figure size 432x288 with 1 Axes>"
      ]
     },
     "metadata": {
      "needs_background": "light"
     },
     "output_type": "display_data"
    }
   ],
   "source": [
    "# plotting loss and accuracy\n",
    "plot_graphs(history, 'accuracy')\n",
    "plot_graphs(history, 'loss')"
   ]
  },
  {
   "cell_type": "markdown",
   "metadata": {},
   "source": [
    "### Experimenting the LSTM model"
   ]
  },
  {
   "cell_type": "code",
   "execution_count": 19,
   "metadata": {},
   "outputs": [],
   "source": [
    "# creating reviews\n",
    "positive_review = [\"The movie was cool. The animation and the graphics were out of this world. I would recommend this movie.\"]\n",
    "negative_review = [\"The movie was not good. The animation and the graphics were terrible. I would not recommend this movie.\"]"
   ]
  },
  {
   "cell_type": "markdown",
   "metadata": {},
   "source": [
    "### Test your models on the positive review"
   ]
  },
  {
   "cell_type": "code",
   "execution_count": 20,
   "metadata": {},
   "outputs": [
    {
     "name": "stdout",
     "output_type": "stream",
     "text": [
      "[[0.58711165]]\n"
     ]
    }
   ],
   "source": [
    "# predicting on a positive review\n",
    "train_sequences = tokenizer.texts_to_sequences(positive_review)\n",
    "pos_padded = pad_sequences(train_sequences, maxlen=20, truncating=\"post\")\n",
    "\n",
    "# making prediction\n",
    "prediction = model.predict(pos_padded)\n",
    "print(prediction)"
   ]
  },
  {
   "cell_type": "markdown",
   "metadata": {},
   "source": [
    "### Test your models on the negative review"
   ]
  },
  {
   "cell_type": "code",
   "execution_count": 21,
   "metadata": {},
   "outputs": [
    {
     "name": "stdout",
     "output_type": "stream",
     "text": [
      "[[0.2192862]]\n"
     ]
    }
   ],
   "source": [
    "# predicting on a negative review\n",
    "train_sequences = tokenizer.texts_to_sequences(negative_review)\n",
    "pos_padded = pad_sequences(train_sequences, maxlen=20, truncating=\"post\")\n",
    "\n",
    "# making prediction\n",
    "prediction = model.predict(pos_padded)\n",
    "print(prediction)"
   ]
  },
  {
   "cell_type": "code",
   "execution_count": null,
   "metadata": {},
   "outputs": [],
   "source": []
  }
 ],
 "metadata": {
  "kernelspec": {
   "display_name": "Python 3",
   "language": "python",
   "name": "python3"
  },
  "language_info": {
   "codemirror_mode": {
    "name": "ipython",
    "version": 3
   },
   "file_extension": ".py",
   "mimetype": "text/x-python",
   "name": "python",
   "nbconvert_exporter": "python",
   "pygments_lexer": "ipython3",
   "version": "3.7.3"
  }
 },
 "nbformat": 4,
 "nbformat_minor": 2
}
