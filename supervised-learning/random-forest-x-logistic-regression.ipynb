{
 "cells": [
  {
   "cell_type": "markdown",
   "metadata": {},
   "source": [
    "# Sparkify Project Workspace\n",
    "\n",
    "**Sparkify** is a fictional music streaming service that would like to predict users that are not engaged enough and would stop using the platform. These users that leave a service or stop using a product are called `churn`.\n",
    "\n",
    "**Problem Statement:** Predict churn users that would/could leave the platform.\n",
    "\n",
    "**Solution:** In order to solve this problem, I used `PySpark` to analyse a tiny subset (128MB) of the full Sparkify dataset available (12GB). The data is time-series event data and contains users' details, sessions and events.  To predict churn users, this notebook goes trought data analysis, cleaning, definition of churn users, feature engineering and modelling."
   ]
  },
  {
   "cell_type": "code",
   "execution_count": 1,
   "metadata": {},
   "outputs": [],
   "source": [
    "# ! pip install seaborn==0.9.0\n",
    "# ! pip install pyspark"
   ]
  },
  {
   "cell_type": "code",
   "execution_count": 2,
   "metadata": {},
   "outputs": [],
   "source": [
    "# importing libraries\n",
    "import pyspark.sql.functions as sf\n",
    "import pyspark.sql.types as st\n",
    "import pandas as pd\n",
    "import matplotlib.pyplot as plt\n",
    "import seaborn as sns\n",
    "import warnings\n",
    "from pyspark.sql import SparkSession\n",
    "from pyspark.ml.feature import VectorAssembler\n",
    "from pyspark.ml.classification import LogisticRegression, RandomForestClassifier\n",
    "from pyspark.ml.tuning import CrossValidator, ParamGridBuilder\n",
    "from pyspark.ml.evaluation import BinaryClassificationEvaluator\n",
    "warnings.filterwarnings(\"ignore\")"
   ]
  },
  {
   "cell_type": "code",
   "execution_count": 3,
   "metadata": {},
   "outputs": [],
   "source": [
    "# creating a Spark session\n",
    "spark = SparkSession.builder \\\n",
    "    .master('local') \\\n",
    "    .appName('sparkify') \\\n",
    "    .getOrCreate()"
   ]
  },
  {
   "cell_type": "markdown",
   "metadata": {},
   "source": [
    "# Load and Clean Dataset\n",
    "In this workspace, the mini-dataset file is `mini_sparkify_event_data.json`. Load and clean the dataset, checking for invalid or missing data - for example, records without userids or sessionids. "
   ]
  },
  {
   "cell_type": "code",
   "execution_count": 4,
   "metadata": {},
   "outputs": [],
   "source": [
    "# loading data\n",
    "data = spark.read.json('../data/mini_sparkify_event_data.json')"
   ]
  },
  {
   "cell_type": "code",
   "execution_count": 5,
   "metadata": {},
   "outputs": [
    {
     "data": {
      "text/plain": [
       "[Row(artist='Martha Tilston', auth='Logged In', firstName='Colin', gender='M', itemInSession=50, lastName='Freeman', length=277.89016, level='paid', location='Bakersfield, CA', method='PUT', page='NextSong', registration=1538173362000, sessionId=29, song='Rockpools', status=200, ts=1538352117000, userAgent='Mozilla/5.0 (Windows NT 6.1; WOW64; rv:31.0) Gecko/20100101 Firefox/31.0', userId='30')]"
      ]
     },
     "execution_count": 5,
     "metadata": {},
     "output_type": "execute_result"
    }
   ],
   "source": [
    "# checking first row\n",
    "data.take(1)"
   ]
  },
  {
   "cell_type": "markdown",
   "metadata": {},
   "source": [
    "We can start looking into details of the data and understand it."
   ]
  },
  {
   "cell_type": "code",
   "execution_count": 6,
   "metadata": {},
   "outputs": [
    {
     "name": "stdout",
     "output_type": "stream",
     "text": [
      "root\n",
      " |-- artist: string (nullable = true)\n",
      " |-- auth: string (nullable = true)\n",
      " |-- firstName: string (nullable = true)\n",
      " |-- gender: string (nullable = true)\n",
      " |-- itemInSession: long (nullable = true)\n",
      " |-- lastName: string (nullable = true)\n",
      " |-- length: double (nullable = true)\n",
      " |-- level: string (nullable = true)\n",
      " |-- location: string (nullable = true)\n",
      " |-- method: string (nullable = true)\n",
      " |-- page: string (nullable = true)\n",
      " |-- registration: long (nullable = true)\n",
      " |-- sessionId: long (nullable = true)\n",
      " |-- song: string (nullable = true)\n",
      " |-- status: long (nullable = true)\n",
      " |-- ts: long (nullable = true)\n",
      " |-- userAgent: string (nullable = true)\n",
      " |-- userId: string (nullable = true)\n",
      "\n"
     ]
    }
   ],
   "source": [
    "# checking columns\n",
    "data.printSchema()"
   ]
  },
  {
   "cell_type": "markdown",
   "metadata": {},
   "source": [
    "There are 17 columns. The ones tha mostly got my attention at this moment are: `auth`, `sessionId`, `userId`, `status` and `page`."
   ]
  },
  {
   "cell_type": "code",
   "execution_count": 7,
   "metadata": {
    "scrolled": true
   },
   "outputs": [
    {
     "data": {
      "text/plain": [
       "286500"
      ]
     },
     "execution_count": 7,
     "metadata": {},
     "output_type": "execute_result"
    }
   ],
   "source": [
    "# checking total of rows\n",
    "data.count()"
   ]
  },
  {
   "cell_type": "markdown",
   "metadata": {},
   "source": [
    "Looking a bit more into the details, we see that the dataset is really tinny. There is a total of **286500** records. Let's see how many of these are null?"
   ]
  },
  {
   "cell_type": "code",
   "execution_count": 8,
   "metadata": {},
   "outputs": [
    {
     "data": {
      "text/plain": [
       "8346"
      ]
     },
     "execution_count": 8,
     "metadata": {},
     "output_type": "execute_result"
    }
   ],
   "source": [
    "# checking null user ids\n",
    "data.filter(data.userId == \"\").count()"
   ]
  },
  {
   "cell_type": "markdown",
   "metadata": {},
   "source": [
    "8346 `userIds` are null."
   ]
  },
  {
   "cell_type": "code",
   "execution_count": 9,
   "metadata": {},
   "outputs": [
    {
     "data": {
      "text/plain": [
       "286500"
      ]
     },
     "execution_count": 9,
     "metadata": {},
     "output_type": "execute_result"
    }
   ],
   "source": [
    "# checking null session ids\n",
    "data.count() - data.filter(data.sessionId != \"\").count()"
   ]
  },
  {
   "cell_type": "markdown",
   "metadata": {},
   "source": [
    "There are no null `sessionIds` :)"
   ]
  },
  {
   "cell_type": "markdown",
   "metadata": {},
   "source": [
    "Let's clean the data and exclude all null `userIds`."
   ]
  },
  {
   "cell_type": "code",
   "execution_count": 10,
   "metadata": {},
   "outputs": [],
   "source": [
    "# cleaning data \n",
    "data_clean = data.filter(data.userId != \"\")"
   ]
  },
  {
   "cell_type": "code",
   "execution_count": 11,
   "metadata": {},
   "outputs": [
    {
     "data": {
      "text/plain": [
       "278154"
      ]
     },
     "execution_count": 11,
     "metadata": {},
     "output_type": "execute_result"
    }
   ],
   "source": [
    "# checking new data set\n",
    "data_clean.count()"
   ]
  },
  {
   "cell_type": "markdown",
   "metadata": {},
   "source": [
    "The data is clean and we are ready to move to next steps!"
   ]
  },
  {
   "cell_type": "markdown",
   "metadata": {},
   "source": [
    "# Exploratory Data Analysis\n",
    "Using the dataset to perform EDA and manipulations within Spark.\n"
   ]
  },
  {
   "cell_type": "markdown",
   "metadata": {},
   "source": [
    "### Define Churn\n",
    "\n",
    "Let's create a column `Churn` to use as the label for the model. I am using the `Cancellation Confirmation` events to define churn users."
   ]
  },
  {
   "cell_type": "code",
   "execution_count": 12,
   "metadata": {
    "scrolled": true
   },
   "outputs": [
    {
     "name": "stdout",
     "output_type": "stream",
     "text": [
      "+--------------------+-------------+------+---------+-----+\n",
      "|                page|           ts|userId|sessionId|level|\n",
      "+--------------------+-------------+------+---------+-----+\n",
      "|Cancellation Conf...|1538943990000|    18|      514| paid|\n",
      "|Cancellation Conf...|1539033046000|    32|      540| paid|\n",
      "|Cancellation Conf...|1539318918000|   125|      174| free|\n",
      "|Cancellation Conf...|1539375441000|   105|      508| paid|\n",
      "|Cancellation Conf...|1539465584000|    17|      797| paid|\n",
      "+--------------------+-------------+------+---------+-----+\n",
      "only showing top 5 rows\n",
      "\n"
     ]
    }
   ],
   "source": [
    "# checking cancellation confirmation \n",
    "data_clean.where(data_clean.page == 'Cancellation Confirmation').select(['page', 'ts', 'userId', 'sessionId', 'level']).show(5)"
   ]
  },
  {
   "cell_type": "code",
   "execution_count": 13,
   "metadata": {},
   "outputs": [],
   "source": [
    "# defining churn\n",
    "churn = data_clean.where(data_clean.page == 'Cancellation Confirmation').select('userId').toPandas().userId.tolist()\n",
    "new_data = data_clean.withColumn('churn', data_clean.userId.isin(churn))"
   ]
  },
  {
   "cell_type": "markdown",
   "metadata": {},
   "source": [
    "I've just created the `churn` column and defined the new data set as `new_data`. \n",
    "For this, I used *pandas* and it made life much easier."
   ]
  },
  {
   "cell_type": "markdown",
   "metadata": {},
   "source": [
    "Let's just check if everything went well..."
   ]
  },
  {
   "cell_type": "code",
   "execution_count": 14,
   "metadata": {},
   "outputs": [
    {
     "data": {
      "text/plain": [
       "[Row(artist='Martha Tilston', auth='Logged In', firstName='Colin', gender='M', itemInSession=50, lastName='Freeman', length=277.89016, level='paid', location='Bakersfield, CA', method='PUT', page='NextSong', registration=1538173362000, sessionId=29, song='Rockpools', status=200, ts=1538352117000, userAgent='Mozilla/5.0 (Windows NT 6.1; WOW64; rv:31.0) Gecko/20100101 Firefox/31.0', userId='30', churn=False)]"
      ]
     },
     "execution_count": 14,
     "metadata": {},
     "output_type": "execute_result"
    }
   ],
   "source": [
    "# checking new_data\n",
    "new_data.take(1)"
   ]
  },
  {
   "cell_type": "code",
   "execution_count": 15,
   "metadata": {
    "scrolled": true
   },
   "outputs": [
    {
     "name": "stdout",
     "output_type": "stream",
     "text": [
      "root\n",
      " |-- artist: string (nullable = true)\n",
      " |-- auth: string (nullable = true)\n",
      " |-- firstName: string (nullable = true)\n",
      " |-- gender: string (nullable = true)\n",
      " |-- itemInSession: long (nullable = true)\n",
      " |-- lastName: string (nullable = true)\n",
      " |-- length: double (nullable = true)\n",
      " |-- level: string (nullable = true)\n",
      " |-- location: string (nullable = true)\n",
      " |-- method: string (nullable = true)\n",
      " |-- page: string (nullable = true)\n",
      " |-- registration: long (nullable = true)\n",
      " |-- sessionId: long (nullable = true)\n",
      " |-- song: string (nullable = true)\n",
      " |-- status: long (nullable = true)\n",
      " |-- ts: long (nullable = true)\n",
      " |-- userAgent: string (nullable = true)\n",
      " |-- userId: string (nullable = true)\n",
      " |-- churn: boolean (nullable = true)\n",
      "\n"
     ]
    }
   ],
   "source": [
    "# checking new_data\n",
    "new_data.printSchema()"
   ]
  },
  {
   "cell_type": "markdown",
   "metadata": {},
   "source": [
    "### Explore Data\n",
    "Now I start to perform some exploratory data analysis to observe the behavior for `churn` users. Below, I explore users by the `artist`, `song`,  `location` and, of course, `churn` fields."
   ]
  },
  {
   "cell_type": "code",
   "execution_count": 16,
   "metadata": {},
   "outputs": [
    {
     "name": "stdout",
     "output_type": "stream",
     "text": [
      "+--------------------+--------------------+--------------------+-----+\n",
      "|              artist|                song|            location|churn|\n",
      "+--------------------+--------------------+--------------------+-----+\n",
      "|      Martha Tilston|           Rockpools|     Bakersfield, CA|false|\n",
      "|    Five Iron Frenzy|              Canada|Boston-Cambridge-...|false|\n",
      "|        Adam Lambert|   Time For Miracles|     Bakersfield, CA|false|\n",
      "|              Enigma|Knocking On Forbi...|Boston-Cambridge-...|false|\n",
      "|           Daft Punk|Harder Better Fas...|     Bakersfield, CA|false|\n",
      "|The All-American ...|      Don't Leave Me|Boston-Cambridge-...|false|\n",
      "|The Velvet Underg...|         Run Run Run|Boston-Cambridge-...|false|\n",
      "|        Starflyer 59|Passengers (Old A...|     Bakersfield, CA|false|\n",
      "+--------------------+--------------------+--------------------+-----+\n",
      "\n"
     ]
    }
   ],
   "source": [
    "# checking the data\n",
    "new_data.select(['artist', 'song', 'location', 'churn']).limit(8).show(8)"
   ]
  },
  {
   "cell_type": "markdown",
   "metadata": {},
   "source": [
    "Interesting, the first 8 rows are of non-churn users! \n",
    "\n",
    "Let's have a look if `userId` and `sessionId` are related in any way:"
   ]
  },
  {
   "cell_type": "code",
   "execution_count": 17,
   "metadata": {
    "scrolled": false
   },
   "outputs": [
    {
     "name": "stdout",
     "output_type": "stream",
     "text": [
      "+----------------------+-------------------------+\n",
      "|count(DISTINCT userId)|count(DISTINCT sessionId)|\n",
      "+----------------------+-------------------------+\n",
      "|                   225|                     2312|\n",
      "+----------------------+-------------------------+\n",
      "\n"
     ]
    }
   ],
   "source": [
    "# checking total of user ids and session ids\n",
    "new_data.agg(sf.countDistinct('userId'), sf.countDistinct('sessionId')).show()"
   ]
  },
  {
   "cell_type": "markdown",
   "metadata": {},
   "source": [
    "There are much more seesions than users! "
   ]
  },
  {
   "cell_type": "code",
   "execution_count": 18,
   "metadata": {},
   "outputs": [
    {
     "name": "stdout",
     "output_type": "stream",
     "text": [
      "+------+---------+\n",
      "|userId|sessionId|\n",
      "+------+---------+\n",
      "|    30|       29|\n",
      "|     9|        8|\n",
      "|    30|       29|\n",
      "|     9|        8|\n",
      "|    30|       29|\n",
      "+------+---------+\n",
      "\n"
     ]
    }
   ],
   "source": [
    "# checking the user id and session ids\n",
    "new_data.select(['userId', 'sessionId']).limit(5).show()"
   ]
  },
  {
   "cell_type": "code",
   "execution_count": 19,
   "metadata": {},
   "outputs": [
    {
     "data": {
      "text/plain": [
       "<matplotlib.axes._subplots.AxesSubplot at 0x7f7ace43e898>"
      ]
     },
     "execution_count": 19,
     "metadata": {},
     "output_type": "execute_result"
    },
    {
     "data": {
      "image/png": "[encoded data removed]",
      "text/plain": [
       "<matplotlib.figure.Figure at 0x7f7acecbe518>"
      ]
     },
     "metadata": {
      "needs_background": "light"
     },
     "output_type": "display_data"
    }
   ],
   "source": [
    "# plotting user\n",
    "user_count = new_data.groupby('userId').count().toPandas()\n",
    "sns.distplot(user_count['count'], kde = False, bins=20)"
   ]
  },
  {
   "cell_type": "code",
   "execution_count": 20,
   "metadata": {},
   "outputs": [
    {
     "name": "stdout",
     "output_type": "stream",
     "text": [
      "+--------------------+---------+---------+------+-------------+--------+---------+-----+--------------------+------+--------+-------------+---------+--------------------+------+-------------+--------------------+------+-----+\n",
      "|              artist|     auth|firstName|gender|itemInSession|lastName|   length|level|            location|method|    page| registration|sessionId|                song|status|           ts|           userAgent|userId|churn|\n",
      "+--------------------+---------+---------+------+-------------+--------+---------+-----+--------------------+------+--------+-------------+---------+--------------------+------+-------------+--------------------+------+-----+\n",
      "|Malk De Koijn;BlÃ...|Logged In|  Makayla|     F|            0|Williams|252.99546| free|Detroit-Warren-De...|   PUT|NextSong|1536372490000|      110|        Jernskjorten|   200|1538663131000|\"Mozilla/5.0 (Win...|   111|false|\n",
      "|         Fleet Foxes|Logged In|  Makayla|     F|            1|Williams|187.42812| free|Detroit-Warren-De...|   PUT|NextSong|1536372490000|      110|        Innocent Son|   200|1538663383000|\"Mozilla/5.0 (Win...|   111|false|\n",
      "|                Dido|Logged In|  Makayla|     F|            2|Williams|277.52444| free|Detroit-Warren-De...|   PUT|NextSong|1536372490000|      110|         Honestly Ok|   200|1538663570000|\"Mozilla/5.0 (Win...|   111|false|\n",
      "|          Katy Perry|Logged In|  Makayla|     F|            3|Williams|179.40853| free|Detroit-Warren-De...|   PUT|NextSong|1536372490000|      110|     I Kissed A Girl|   200|1538663847000|\"Mozilla/5.0 (Win...|   111|false|\n",
      "|       Dwight Yoakam|Logged In|  Makayla|     F|            4|Williams| 239.3073| free|Detroit-Warren-De...|   PUT|NextSong|1536372490000|      110|      You're The One|   200|1538664026000|\"Mozilla/5.0 (Win...|   111|false|\n",
      "|              Prince|Logged In|  Makayla|     F|            5|Williams|323.73506| free|Detroit-Warren-De...|   PUT|NextSong|1536372490000|      110|Still Would Stand...|   200|1538664265000|\"Mozilla/5.0 (Win...|   111|false|\n",
      "|        Taylor Swift|Logged In|  Makayla|     F|            6|Williams|233.89995| free|Detroit-Warren-De...|   PUT|NextSong|1536372490000|      110|          Love Story|   200|1538664588000|\"Mozilla/5.0 (Win...|   111|false|\n",
      "| Jovenes Pordioseros|Logged In|  Makayla|     F|            7|Williams|174.62812| free|Detroit-Warren-De...|   PUT|NextSong|1536372490000|      110|       Descontrolado|   200|1538664821000|\"Mozilla/5.0 (Win...|   111|false|\n",
      "|           Cocorosie|Logged In|  Makayla|     F|            8|Williams|190.14485| free|Detroit-Warren-De...|   PUT|NextSong|1536372490000|      110|           Hopscotch|   200|1538664995000|\"Mozilla/5.0 (Win...|   111|false|\n",
      "|        Taylor Swift|Logged In|  Makayla|     F|            9|Williams|233.89995| free|Detroit-Warren-De...|   PUT|NextSong|1536372490000|      110|          Love Story|   200|1538665185000|\"Mozilla/5.0 (Win...|   111|false|\n",
      "|           The Shins|Logged In|  Makayla|     F|           10|Williams|225.61914| free|Detroit-Warren-De...|   PUT|NextSong|1536372490000|      110|Spilt Needles (Al...|   200|1538665418000|\"Mozilla/5.0 (Win...|   111|false|\n",
      "|Usher featuring w...|Logged In|  Makayla|     F|           11|Williams|395.72853| free|Detroit-Warren-De...|   PUT|NextSong|1536372490000|      110|                 OMG|   200|1538665643000|\"Mozilla/5.0 (Win...|   111|false|\n",
      "|             Phoenix|Logged In|  Makayla|     F|           12|Williams|179.85261| free|Detroit-Warren-De...|   PUT|NextSong|1536372490000|      110|Everything Is Eve...|   200|1538666038000|\"Mozilla/5.0 (Win...|   111|false|\n",
      "|                null|Logged In|  Makayla|     F|           13|Williams|     null| free|Detroit-Warren-De...|   GET|    Home|1536372490000|      110|                null|   200|1538666161000|\"Mozilla/5.0 (Win...|   111|false|\n",
      "|       Amy Winehouse|Logged In|  Makayla|     F|           14|Williams|202.73587| free|Detroit-Warren-De...|   PUT|NextSong|1536372490000|      110|You Know I'm No Good|   200|1538666217000|\"Mozilla/5.0 (Win...|   111|false|\n",
      "|     The Commitments|Logged In|  Makayla|     F|           15|Williams|273.34485| free|Detroit-Warren-De...|   PUT|NextSong|1536372490000|      110|Try A Little Tend...|   200|1538666419000|\"Mozilla/5.0 (Win...|   111|false|\n",
      "|         OneRepublic|Logged In|  Makayla|     F|           16|Williams|224.67873| free|Detroit-Warren-De...|   PUT|NextSong|1536372490000|      110|             Secrets|   200|1538666692000|\"Mozilla/5.0 (Win...|   111|false|\n",
      "|        Taylor Swift|Logged In|  Makayla|     F|           17|Williams|237.03465| free|Detroit-Warren-De...|   PUT|NextSong|1536372490000|      110|      Jump Then Fall|   200|1538666916000|\"Mozilla/5.0 (Win...|   111|false|\n",
      "|                null|Logged In|  Makayla|     F|           18|Williams|     null| free|Detroit-Warren-De...|   PUT|  Logout|1536372490000|      110|                null|   307|1538666917000|\"Mozilla/5.0 (Win...|   111|false|\n",
      "|                null|Logged In|  Makayla|     F|            3|Williams|     null| free|Detroit-Warren-De...|   GET|    Home|1536372490000|      462|                null|   200|1539096717000|\"Mozilla/5.0 (Win...|   111|false|\n",
      "+--------------------+---------+---------+------+-------------+--------+---------+-----+--------------------+------+--------+-------------+---------+--------------------+------+-------------+--------------------+------+-----+\n",
      "only showing top 20 rows\n",
      "\n"
     ]
    }
   ],
   "source": [
    "# checking one user\n",
    "new_data.where(new_data.userId == 111).show()"
   ]
  },
  {
   "cell_type": "markdown",
   "metadata": {},
   "source": [
    "It's very interesting how many sessions a user can have. :)"
   ]
  },
  {
   "cell_type": "markdown",
   "metadata": {},
   "source": [
    "Let's move on to `auth`."
   ]
  },
  {
   "cell_type": "code",
   "execution_count": 21,
   "metadata": {
    "scrolled": false
   },
   "outputs": [
    {
     "name": "stdout",
     "output_type": "stream",
     "text": [
      "+---------+\n",
      "|     auth|\n",
      "+---------+\n",
      "|Cancelled|\n",
      "|Logged In|\n",
      "+---------+\n",
      "\n"
     ]
    }
   ],
   "source": [
    "# checking auth\n",
    "new_data.select('auth').distinct().show()"
   ]
  },
  {
   "cell_type": "code",
   "execution_count": 22,
   "metadata": {
    "scrolled": true
   },
   "outputs": [
    {
     "name": "stdout",
     "output_type": "stream",
     "text": [
      "+---------+------+\n",
      "|     auth| count|\n",
      "+---------+------+\n",
      "|Cancelled|    52|\n",
      "|Logged In|278102|\n",
      "+---------+------+\n",
      "\n"
     ]
    }
   ],
   "source": [
    "# checking auth counts\n",
    "new_data.groupBy('auth').count().show()"
   ]
  },
  {
   "cell_type": "markdown",
   "metadata": {},
   "source": [
    "Not an expressive ammount of `Cancelled` sessions."
   ]
  },
  {
   "cell_type": "code",
   "execution_count": 23,
   "metadata": {},
   "outputs": [
    {
     "name": "stdout",
     "output_type": "stream",
     "text": [
      "+------+\n",
      "|status|\n",
      "+------+\n",
      "|   307|\n",
      "|   404|\n",
      "|   200|\n",
      "+------+\n",
      "\n"
     ]
    }
   ],
   "source": [
    "# checking status\n",
    "new_data.select('status').distinct().show()"
   ]
  },
  {
   "cell_type": "markdown",
   "metadata": {},
   "source": [
    "`Status` also does not look important for our analysis. "
   ]
  },
  {
   "cell_type": "code",
   "execution_count": 24,
   "metadata": {},
   "outputs": [
    {
     "name": "stdout",
     "output_type": "stream",
     "text": [
      "+-----+\n",
      "|level|\n",
      "+-----+\n",
      "| free|\n",
      "| paid|\n",
      "+-----+\n",
      "\n"
     ]
    }
   ],
   "source": [
    "# checking level\n",
    "new_data.select('level').distinct().show()"
   ]
  },
  {
   "cell_type": "markdown",
   "metadata": {},
   "source": [
    "Since `churn` users can use free or paid accoutns, I am not sure it would be relevant."
   ]
  },
  {
   "cell_type": "code",
   "execution_count": 25,
   "metadata": {},
   "outputs": [
    {
     "name": "stdout",
     "output_type": "stream",
     "text": [
      "+---------+\n",
      "|   length|\n",
      "+---------+\n",
      "|200.75057|\n",
      "|317.30893|\n",
      "|260.28363|\n",
      "|241.94567|\n",
      "|262.79138|\n",
      "|216.47628|\n",
      "|361.66485|\n",
      "|231.94077|\n",
      "|375.03955|\n",
      "|213.75955|\n",
      "|429.16526|\n",
      "|381.77914|\n",
      "|347.81995|\n",
      "|227.83955|\n",
      "|356.20526|\n",
      "|401.76281|\n",
      "|387.16036|\n",
      "|216.97261|\n",
      "|170.97098|\n",
      "|174.23628|\n",
      "+---------+\n",
      "only showing top 20 rows\n",
      "\n"
     ]
    }
   ],
   "source": [
    "# checking length\n",
    "new_data.select('length').distinct().show()"
   ]
  },
  {
   "cell_type": "code",
   "execution_count": 26,
   "metadata": {
    "scrolled": false
   },
   "outputs": [
    {
     "name": "stdout",
     "output_type": "stream",
     "text": [
      "+-------+-----------------+\n",
      "|summary|           length|\n",
      "+-------+-----------------+\n",
      "|  count|           228108|\n",
      "|   mean|249.1171819778458|\n",
      "| stddev|99.23517921058361|\n",
      "|    min|          0.78322|\n",
      "|    max|       3024.66567|\n",
      "+-------+-----------------+\n",
      "\n"
     ]
    }
   ],
   "source": [
    "# checking length\n",
    "new_data.select('length').describe().show()"
   ]
  },
  {
   "cell_type": "markdown",
   "metadata": {},
   "source": [
    "How are the `page` records? "
   ]
  },
  {
   "cell_type": "code",
   "execution_count": 27,
   "metadata": {
    "scrolled": true
   },
   "outputs": [
    {
     "data": {
      "text/html": [
       "<div>\n",
       "<style scoped>\n",
       "    .dataframe tbody tr th:only-of-type {\n",
       "        vertical-align: middle;\n",
       "    }\n",
       "\n",
       "    .dataframe tbody tr th {\n",
       "        vertical-align: top;\n",
       "    }\n",
       "\n",
       "    .dataframe thead th {\n",
       "        text-align: right;\n",
       "    }\n",
       "</style>\n",
       "<table border=\"1\" class=\"dataframe\">\n",
       "  <thead>\n",
       "    <tr style=\"text-align: right;\">\n",
       "      <th></th>\n",
       "      <th>page</th>\n",
       "    </tr>\n",
       "  </thead>\n",
       "  <tbody>\n",
       "    <tr>\n",
       "      <th>0</th>\n",
       "      <td>About</td>\n",
       "    </tr>\n",
       "    <tr>\n",
       "      <th>1</th>\n",
       "      <td>Add Friend</td>\n",
       "    </tr>\n",
       "    <tr>\n",
       "      <th>2</th>\n",
       "      <td>Add to Playlist</td>\n",
       "    </tr>\n",
       "    <tr>\n",
       "      <th>3</th>\n",
       "      <td>Cancel</td>\n",
       "    </tr>\n",
       "    <tr>\n",
       "      <th>4</th>\n",
       "      <td>Cancellation Confirmation</td>\n",
       "    </tr>\n",
       "    <tr>\n",
       "      <th>5</th>\n",
       "      <td>Downgrade</td>\n",
       "    </tr>\n",
       "    <tr>\n",
       "      <th>6</th>\n",
       "      <td>Error</td>\n",
       "    </tr>\n",
       "    <tr>\n",
       "      <th>7</th>\n",
       "      <td>Help</td>\n",
       "    </tr>\n",
       "    <tr>\n",
       "      <th>8</th>\n",
       "      <td>Home</td>\n",
       "    </tr>\n",
       "    <tr>\n",
       "      <th>9</th>\n",
       "      <td>Logout</td>\n",
       "    </tr>\n",
       "    <tr>\n",
       "      <th>10</th>\n",
       "      <td>NextSong</td>\n",
       "    </tr>\n",
       "    <tr>\n",
       "      <th>11</th>\n",
       "      <td>Roll Advert</td>\n",
       "    </tr>\n",
       "    <tr>\n",
       "      <th>12</th>\n",
       "      <td>Save Settings</td>\n",
       "    </tr>\n",
       "    <tr>\n",
       "      <th>13</th>\n",
       "      <td>Settings</td>\n",
       "    </tr>\n",
       "    <tr>\n",
       "      <th>14</th>\n",
       "      <td>Submit Downgrade</td>\n",
       "    </tr>\n",
       "    <tr>\n",
       "      <th>15</th>\n",
       "      <td>Submit Upgrade</td>\n",
       "    </tr>\n",
       "    <tr>\n",
       "      <th>16</th>\n",
       "      <td>Thumbs Down</td>\n",
       "    </tr>\n",
       "    <tr>\n",
       "      <th>17</th>\n",
       "      <td>Thumbs Up</td>\n",
       "    </tr>\n",
       "    <tr>\n",
       "      <th>18</th>\n",
       "      <td>Upgrade</td>\n",
       "    </tr>\n",
       "  </tbody>\n",
       "</table>\n",
       "</div>"
      ],
      "text/plain": [
       "                         page\n",
       "0                       About\n",
       "1                  Add Friend\n",
       "2             Add to Playlist\n",
       "3                      Cancel\n",
       "4   Cancellation Confirmation\n",
       "5                   Downgrade\n",
       "6                       Error\n",
       "7                        Help\n",
       "8                        Home\n",
       "9                      Logout\n",
       "10                   NextSong\n",
       "11                Roll Advert\n",
       "12              Save Settings\n",
       "13                   Settings\n",
       "14           Submit Downgrade\n",
       "15             Submit Upgrade\n",
       "16                Thumbs Down\n",
       "17                  Thumbs Up\n",
       "18                    Upgrade"
      ]
     },
     "execution_count": 27,
     "metadata": {},
     "output_type": "execute_result"
    }
   ],
   "source": [
    "# checking pages values\n",
    "(new_data.select('page').distinct().sort('page')).toPandas()"
   ]
  },
  {
   "cell_type": "code",
   "execution_count": 28,
   "metadata": {
    "scrolled": true
   },
   "outputs": [
    {
     "data": {
      "text/html": [
       "<div>\n",
       "<style scoped>\n",
       "    .dataframe tbody tr th:only-of-type {\n",
       "        vertical-align: middle;\n",
       "    }\n",
       "\n",
       "    .dataframe tbody tr th {\n",
       "        vertical-align: top;\n",
       "    }\n",
       "\n",
       "    .dataframe thead th {\n",
       "        text-align: right;\n",
       "    }\n",
       "</style>\n",
       "<table border=\"1\" class=\"dataframe\">\n",
       "  <thead>\n",
       "    <tr style=\"text-align: right;\">\n",
       "      <th></th>\n",
       "      <th>count</th>\n",
       "    </tr>\n",
       "    <tr>\n",
       "      <th>page</th>\n",
       "      <th></th>\n",
       "    </tr>\n",
       "  </thead>\n",
       "  <tbody>\n",
       "    <tr>\n",
       "      <th>NextSong</th>\n",
       "      <td>228108</td>\n",
       "    </tr>\n",
       "    <tr>\n",
       "      <th>Thumbs Up</th>\n",
       "      <td>12551</td>\n",
       "    </tr>\n",
       "    <tr>\n",
       "      <th>Home</th>\n",
       "      <td>10082</td>\n",
       "    </tr>\n",
       "    <tr>\n",
       "      <th>Add to Playlist</th>\n",
       "      <td>6526</td>\n",
       "    </tr>\n",
       "    <tr>\n",
       "      <th>Add Friend</th>\n",
       "      <td>4277</td>\n",
       "    </tr>\n",
       "    <tr>\n",
       "      <th>Roll Advert</th>\n",
       "      <td>3933</td>\n",
       "    </tr>\n",
       "    <tr>\n",
       "      <th>Logout</th>\n",
       "      <td>3226</td>\n",
       "    </tr>\n",
       "    <tr>\n",
       "      <th>Thumbs Down</th>\n",
       "      <td>2546</td>\n",
       "    </tr>\n",
       "    <tr>\n",
       "      <th>Downgrade</th>\n",
       "      <td>2055</td>\n",
       "    </tr>\n",
       "    <tr>\n",
       "      <th>Settings</th>\n",
       "      <td>1514</td>\n",
       "    </tr>\n",
       "    <tr>\n",
       "      <th>Help</th>\n",
       "      <td>1454</td>\n",
       "    </tr>\n",
       "    <tr>\n",
       "      <th>Upgrade</th>\n",
       "      <td>499</td>\n",
       "    </tr>\n",
       "    <tr>\n",
       "      <th>About</th>\n",
       "      <td>495</td>\n",
       "    </tr>\n",
       "    <tr>\n",
       "      <th>Save Settings</th>\n",
       "      <td>310</td>\n",
       "    </tr>\n",
       "    <tr>\n",
       "      <th>Error</th>\n",
       "      <td>252</td>\n",
       "    </tr>\n",
       "    <tr>\n",
       "      <th>Submit Upgrade</th>\n",
       "      <td>159</td>\n",
       "    </tr>\n",
       "    <tr>\n",
       "      <th>Submit Downgrade</th>\n",
       "      <td>63</td>\n",
       "    </tr>\n",
       "    <tr>\n",
       "      <th>Cancel</th>\n",
       "      <td>52</td>\n",
       "    </tr>\n",
       "    <tr>\n",
       "      <th>Cancellation Confirmation</th>\n",
       "      <td>52</td>\n",
       "    </tr>\n",
       "  </tbody>\n",
       "</table>\n",
       "</div>"
      ],
      "text/plain": [
       "                            count\n",
       "page                             \n",
       "NextSong                   228108\n",
       "Thumbs Up                   12551\n",
       "Home                        10082\n",
       "Add to Playlist              6526\n",
       "Add Friend                   4277\n",
       "Roll Advert                  3933\n",
       "Logout                       3226\n",
       "Thumbs Down                  2546\n",
       "Downgrade                    2055\n",
       "Settings                     1514\n",
       "Help                         1454\n",
       "Upgrade                       499\n",
       "About                         495\n",
       "Save Settings                 310\n",
       "Error                         252\n",
       "Submit Upgrade                159\n",
       "Submit Downgrade               63\n",
       "Cancel                         52\n",
       "Cancellation Confirmation      52"
      ]
     },
     "execution_count": 28,
     "metadata": {},
     "output_type": "execute_result"
    }
   ],
   "source": [
    "# grouping & counting pages \n",
    "page_counts = new_data.groupby('page').count().sort('count', ascending=False).toPandas().set_index('page')\n",
    "page_counts"
   ]
  },
  {
   "cell_type": "markdown",
   "metadata": {},
   "source": [
    "We start to see that `pages` are relevant for building a model. Specially, `Cancellation Confirmation` ones."
   ]
  },
  {
   "cell_type": "markdown",
   "metadata": {},
   "source": [
    "Better looking at it as a graphic, no?"
   ]
  },
  {
   "cell_type": "code",
   "execution_count": 29,
   "metadata": {
    "scrolled": false
   },
   "outputs": [
    {
     "data": {
      "image/png": "[encoded data removed]",
      "text/plain": [
       "<matplotlib.figure.Figure at 0x7f7acc2d8fd0>"
      ]
     },
     "metadata": {
      "needs_background": "light"
     },
     "output_type": "display_data"
    }
   ],
   "source": [
    "# plotting pages\n",
    "plt.figure(figsize=(6,8))\n",
    "g = sns.barplot(x = page_counts['count'], y = page_counts.index, log=True)"
   ]
  },
  {
   "cell_type": "markdown",
   "metadata": {},
   "source": [
    "How would be the `timestamp` and `registration` records? "
   ]
  },
  {
   "cell_type": "code",
   "execution_count": 30,
   "metadata": {
    "scrolled": true
   },
   "outputs": [
    {
     "name": "stdout",
     "output_type": "stream",
     "text": [
      "+-------------+\n",
      "|           ts|\n",
      "+-------------+\n",
      "|1538360520000|\n",
      "|1538368903000|\n",
      "|1538380099000|\n",
      "|1538380879000|\n",
      "|1538390386000|\n",
      "|1538399222000|\n",
      "|1538402692000|\n",
      "|1538405492000|\n",
      "|1538411816000|\n",
      "|1538420258000|\n",
      "|1538422643000|\n",
      "|1538423103000|\n",
      "|1538428266000|\n",
      "|1538433192000|\n",
      "|1538435390000|\n",
      "|1538439836000|\n",
      "|1538453678000|\n",
      "|1538471202000|\n",
      "|1538494626000|\n",
      "|1538495500000|\n",
      "+-------------+\n",
      "only showing top 20 rows\n",
      "\n"
     ]
    }
   ],
   "source": [
    "# checking ts\n",
    "new_data.select('ts').distinct().show()"
   ]
  },
  {
   "cell_type": "code",
   "execution_count": 31,
   "metadata": {
    "scrolled": true
   },
   "outputs": [
    {
     "name": "stdout",
     "output_type": "stream",
     "text": [
      "+-------------+\n",
      "| registration|\n",
      "+-------------+\n",
      "|1529027541000|\n",
      "|1533192032000|\n",
      "|1537779419000|\n",
      "|1534627466000|\n",
      "|1535389443000|\n",
      "|1536642109000|\n",
      "|1537167593000|\n",
      "|1536854322000|\n",
      "|1533908361000|\n",
      "|1536817381000|\n",
      "|1536663902000|\n",
      "|1537672236000|\n",
      "|1536956945000|\n",
      "|1537611935000|\n",
      "|1537751138000|\n",
      "|1533532298000|\n",
      "|1537057938000|\n",
      "|1537964483000|\n",
      "|1528772084000|\n",
      "|1537440271000|\n",
      "+-------------+\n",
      "only showing top 20 rows\n",
      "\n"
     ]
    }
   ],
   "source": [
    "# checking registration\n",
    "new_data.select('registration').distinct().show()"
   ]
  },
  {
   "cell_type": "markdown",
   "metadata": {},
   "source": [
    "The `timestamp` and `registration` fields do not mean a lot for me in this format. Maybe would be good to change them."
   ]
  },
  {
   "cell_type": "code",
   "execution_count": 32,
   "metadata": {},
   "outputs": [],
   "source": [
    "# creating a function to convert timestamp\n",
    "def convert(x):\n",
    "    if x is None:\n",
    "        return None\n",
    "    return x//1000"
   ]
  },
  {
   "cell_type": "code",
   "execution_count": 33,
   "metadata": {
    "scrolled": true
   },
   "outputs": [
    {
     "name": "stdout",
     "output_type": "stream",
     "text": [
      "+-------------------+-------------------+\n",
      "|          timestamp|  registration_time|\n",
      "+-------------------+-------------------+\n",
      "|2018-10-01 00:01:57|2018-09-28 22:22:42|\n",
      "|2018-10-01 00:03:00|2018-09-30 18:20:30|\n",
      "|2018-10-01 00:06:34|2018-09-28 22:22:42|\n",
      "|2018-10-01 00:06:56|2018-09-30 18:20:30|\n",
      "|2018-10-01 00:11:16|2018-09-28 22:22:42|\n",
      "+-------------------+-------------------+\n",
      "only showing top 5 rows\n",
      "\n"
     ]
    }
   ],
   "source": [
    "# using convert function\n",
    "convert_ts = sf.udf(convert, st.LongType())\n",
    "new_data = new_data.withColumn('timestamp', convert_ts(new_data.ts).cast('timestamp'))\n",
    "new_data = new_data.withColumn('registration_time', convert_ts(new_data.registration).cast('timestamp'))\n",
    "new_data.select('timestamp', 'registration_time').show(5)"
   ]
  },
  {
   "cell_type": "markdown",
   "metadata": {},
   "source": [
    "Muche easier to read them :)"
   ]
  },
  {
   "cell_type": "code",
   "execution_count": 34,
   "metadata": {},
   "outputs": [],
   "source": [
    "# creating a plot function for day/column visualization\n",
    "def time_count(df, page = None, agg = 'day', by_field = None):\n",
    "    if page is not None:\n",
    "        data = new_data.where(new_data.page == page)\n",
    "    else:\n",
    "        data = new_data\n",
    "    if by_field is None:\n",
    "        group = sf.date_trunc(agg, data.timestamp).alias(agg)\n",
    "    elif by_field is not None:\n",
    "        group = [sf.date_trunc(agg, data.timestamp).alias(agg), by_field]\n",
    "    # grouping and converting to Pandas   \n",
    "    day_counts = data.groupby(group).count().sort(agg).toPandas()\n",
    "    # plotting\n",
    "    plt.figure(figsize = (10,6))\n",
    "    ax = sns.lineplot(x = agg, y = 'count', data = day_counts)\n",
    "    plt.xticks(rotation = 25)"
   ]
  },
  {
   "cell_type": "code",
   "execution_count": 35,
   "metadata": {
    "scrolled": true
   },
   "outputs": [
    {
     "data": {
      "image/png": "[encoded data removed]",
      "text/plain": [
       "<matplotlib.figure.Figure at 0x7f7acc1f05f8>"
      ]
     },
     "metadata": {
      "needs_background": "light"
     },
     "output_type": "display_data"
    }
   ],
   "source": [
    "# plotting all data\n",
    "time_count(new_data)"
   ]
  },
  {
   "cell_type": "markdown",
   "metadata": {},
   "source": [
    "I really enjoy seeing the data as an image and in tnhis case we can have a better view of how users interacts with the platofrm by day."
   ]
  },
  {
   "cell_type": "markdown",
   "metadata": {},
   "source": [
    "I miss analysing one column..."
   ]
  },
  {
   "cell_type": "code",
   "execution_count": 36,
   "metadata": {
    "scrolled": true
   },
   "outputs": [
    {
     "name": "stdout",
     "output_type": "stream",
     "text": [
      "+-----+------+\n",
      "|churn| count|\n",
      "+-----+------+\n",
      "| true| 44864|\n",
      "|false|233290|\n",
      "+-----+------+\n",
      "\n"
     ]
    }
   ],
   "source": [
    "# checking churn counts\n",
    "new_data.groupBy('churn').count().show()"
   ]
  },
  {
   "cell_type": "code",
   "execution_count": 37,
   "metadata": {
    "scrolled": true
   },
   "outputs": [
    {
     "data": {
      "image/png": "[encoded data removed]",
      "text/plain": [
       "<matplotlib.figure.Figure at 0x7f7acc20d630>"
      ]
     },
     "metadata": {
      "needs_background": "light"
     },
     "output_type": "display_data"
    }
   ],
   "source": [
    "# plotting churn\n",
    "time_count(new_data, by_field = 'churn')"
   ]
  },
  {
   "cell_type": "markdown",
   "metadata": {},
   "source": [
    "Main findings:\n",
    "- `Timestamp` and `registration` fields are easier to read when in a date format.\n",
    "- There are null `userIds` to be cleaned.\n",
    "- `Cancellation confirmation` page can point to churn users.\n"
   ]
  },
  {
   "cell_type": "markdown",
   "metadata": {},
   "source": [
    "# Feature Engineering\n",
    "Now, let's build out the features we found promising to train the model on. For this, let's\n",
    "extract these features from the data set."
   ]
  },
  {
   "cell_type": "code",
   "execution_count": 38,
   "metadata": {},
   "outputs": [],
   "source": [
    "# converting timestamp\n",
    "def convert(x):\n",
    "    if x is None:\n",
    "        return None\n",
    "    \n",
    "    return x//1000\n",
    "convert_ts = sf.udf(convert, st.LongType())"
   ]
  },
  {
   "cell_type": "code",
   "execution_count": 39,
   "metadata": {},
   "outputs": [],
   "source": [
    "# cleaning data set\n",
    "def clean(data):\n",
    "    data = data.filter(data.userId != \"\")\n",
    "    data.persist()\n",
    "    return data"
   ]
  },
  {
   "cell_type": "code",
   "execution_count": 40,
   "metadata": {},
   "outputs": [],
   "source": [
    "def featuring_data(data):\n",
    "    # defining columns in vector\n",
    "    vec_cols = []\n",
    "    # session counts\n",
    "    sessions = data.groupby('userId').agg(sf.countDistinct('sessionId').alias('sessions'))\n",
    "    vec_cols.append('sessions')\n",
    "    # event counts\n",
    "    data = data.groupby('userId').pivot('page').count()\n",
    "    data = data.withColumnRenamed('Cancellation Confirmation', 'label')\n",
    "    data = data.drop(*['Cancel']).fillna(0)\n",
    "    data = data.join(sessions, on = 'userId')\n",
    "    # normalizing\n",
    "    no_cols = {'userId', 'sessions', 'label'}\n",
    "    yes_cols = sorted(list(set(data.columns) - no_cols))\n",
    "    for column in yes_cols:\n",
    "        data = data.withColumn(column, sf.col(column) / data.sessions)\n",
    "    vec_cols.extend(yes_cols)\n",
    "    # assemble the vector\n",
    "    assembler = VectorAssembler(inputCols = vec_cols, outputCol = 'features')\n",
    "    # returning data\n",
    "    return assembler.transform(data)"
   ]
  },
  {
   "cell_type": "code",
   "execution_count": 41,
   "metadata": {},
   "outputs": [
    {
     "data": {
      "text/plain": [
       "226"
      ]
     },
     "execution_count": 41,
     "metadata": {},
     "output_type": "execute_result"
    }
   ],
   "source": [
    "# featuring the data\n",
    "feature_data = featuring_data(data)\n",
    "# counting feaures\n",
    "feature_data.select('features').count()"
   ]
  },
  {
   "cell_type": "code",
   "execution_count": 42,
   "metadata": {},
   "outputs": [
    {
     "name": "stdout",
     "output_type": "stream",
     "text": [
      "root\n",
      " |-- userId: string (nullable = true)\n",
      " |-- About: double (nullable = true)\n",
      " |-- Add Friend: double (nullable = true)\n",
      " |-- Add to Playlist: double (nullable = true)\n",
      " |-- label: long (nullable = true)\n",
      " |-- Downgrade: double (nullable = true)\n",
      " |-- Error: double (nullable = true)\n",
      " |-- Help: double (nullable = true)\n",
      " |-- Home: double (nullable = true)\n",
      " |-- Login: double (nullable = true)\n",
      " |-- Logout: double (nullable = true)\n",
      " |-- NextSong: double (nullable = true)\n",
      " |-- Register: double (nullable = true)\n",
      " |-- Roll Advert: double (nullable = true)\n",
      " |-- Save Settings: double (nullable = true)\n",
      " |-- Settings: double (nullable = true)\n",
      " |-- Submit Downgrade: double (nullable = true)\n",
      " |-- Submit Registration: double (nullable = true)\n",
      " |-- Submit Upgrade: double (nullable = true)\n",
      " |-- Thumbs Down: double (nullable = true)\n",
      " |-- Thumbs Up: double (nullable = true)\n",
      " |-- Upgrade: double (nullable = true)\n",
      " |-- sessions: long (nullable = false)\n",
      " |-- features: vector (nullable = true)\n",
      "\n"
     ]
    }
   ],
   "source": [
    "# printing columns\n",
    "feature_data.printSchema()"
   ]
  },
  {
   "cell_type": "markdown",
   "metadata": {},
   "source": [
    "# Modeling\n",
    "Split the full dataset into train, test, and validation sets. Test out several of the machine learning methods you learned. Evaluate the accuracy of the various models, tuning parameters as necessary. Determine your winning model based on test accuracy and report results on the validation set. Since the churned users are a fairly small subset, I suggest using F1 score as the metric to optimize."
   ]
  },
  {
   "cell_type": "markdown",
   "metadata": {},
   "source": [
    "**logistic regression**\n",
    "\n",
    "I choose **Logistic Regression** as one of the models because it is used to describe data and to explain the relationship between one dependent binary variable and one or more nominal."
   ]
  },
  {
   "cell_type": "code",
   "execution_count": 43,
   "metadata": {},
   "outputs": [],
   "source": [
    "# defining test and train datasets\n",
    "train, test = feature_data.randomSplit([0.8, 0.2], seed=42)"
   ]
  },
  {
   "cell_type": "code",
   "execution_count": 44,
   "metadata": {},
   "outputs": [],
   "source": [
    "# using logistic regression\n",
    "log_reg =  LogisticRegression(maxIter=10, regParam=0.0, elasticNetParam=0)"
   ]
  },
  {
   "cell_type": "code",
   "execution_count": 45,
   "metadata": {
    "scrolled": true
   },
   "outputs": [],
   "source": [
    "# model: fitting train data\n",
    "lg_model = log_reg.fit(train)"
   ]
  },
  {
   "cell_type": "code",
   "execution_count": 46,
   "metadata": {},
   "outputs": [],
   "source": [
    "# testing model\n",
    "lg_results = lg_model.transform(test)"
   ]
  },
  {
   "cell_type": "markdown",
   "metadata": {},
   "source": [
    "**Metrics**\n",
    "\n",
    "Besides `accuracy` I also want to calculate `F-Score`. The F-Score measures of the accuracy and better provides a realistic performance by using `precision` and `recall`. "
   ]
  },
  {
   "cell_type": "code",
   "execution_count": 47,
   "metadata": {},
   "outputs": [],
   "source": [
    "# calculating metrics\n",
    "def metrics(df):\n",
    "    total = df.count()\n",
    "    tp = df.where((df.label==1) & (df.prediction==1)).count()\n",
    "    tn = df.where((df.label==0) & (df.prediction==0)).count()\n",
    "    fp = df.where((df.label==0) & (df.prediction==1)).count()\n",
    "    fn = df.where((df.label==1) & (df.prediction==0)).count()\n",
    "    # defining     \n",
    "    accuracy = (1.0 * tp + tn) / total\n",
    "    precision = 1.0 * tp / (tp + fp)\n",
    "    recall = 1.0 * tp / (tp + fn)\n",
    "    f1 = 2.0 * (precision * recall) / (precision + recall)\n",
    "    # printing\n",
    "    print('Accuracy: ', round(accuracy, 2))\n",
    "    print('Precision: ', round(precision, 2))\n",
    "    print('Recall: ', round(recall, 2))\n",
    "    print('F1-Score: ', round(f1, 2))"
   ]
  },
  {
   "cell_type": "code",
   "execution_count": 48,
   "metadata": {},
   "outputs": [
    {
     "name": "stdout",
     "output_type": "stream",
     "text": [
      "Accuracy:  0.71\n",
      "Precision:  0.25\n",
      "Recall:  0.12\n",
      "F1-Score:  0.17\n"
     ]
    }
   ],
   "source": [
    "# calculating metrics for logistic model\n",
    "metrics(lg_results)"
   ]
  },
  {
   "cell_type": "markdown",
   "metadata": {},
   "source": [
    "**random forest**\n",
    "\n",
    "My second choice is **Random Forest**. It builds multiple decision trees and merges them together to get a more accurate and stable prediction. "
   ]
  },
  {
   "cell_type": "code",
   "execution_count": 49,
   "metadata": {},
   "outputs": [],
   "source": [
    "# using random forest\n",
    "ran_for = RandomForestClassifier()\n",
    "rf_model = ran_for.fit(train)\n",
    "rf_results = rf_model.transform(test)"
   ]
  },
  {
   "cell_type": "code",
   "execution_count": 50,
   "metadata": {},
   "outputs": [],
   "source": [
    "# calculating metrics\n",
    "def metrics(df):\n",
    "    total = df.count()\n",
    "    tp = df.where((df.label==1) & (df.prediction==1)).count()\n",
    "    tn = df.where((df.label==0) & (df.prediction==0)).count()\n",
    "    fp = df.where((df.label==0) & (df.prediction==1)).count()\n",
    "    fn = df.where((df.label==1) & (df.prediction==0)).count()\n",
    "    # defining     \n",
    "    accuracy = (1.0*tp + tn) / total\n",
    "    # printing\n",
    "    print('Accuracy: ', round(accuracy, 2))"
   ]
  },
  {
   "cell_type": "code",
   "execution_count": 51,
   "metadata": {},
   "outputs": [
    {
     "name": "stdout",
     "output_type": "stream",
     "text": [
      "Accuracy:  0.76\n"
     ]
    }
   ],
   "source": [
    "# getting results\n",
    "metrics(rf_results)"
   ]
  },
  {
   "cell_type": "markdown",
   "metadata": {},
   "source": [
    "**Improvements**"
   ]
  },
  {
   "cell_type": "markdown",
   "metadata": {},
   "source": [
    "- Changing minimun of instances per node and number of trees\n",
    "- Using cross validator"
   ]
  },
  {
   "cell_type": "code",
   "execution_count": 52,
   "metadata": {},
   "outputs": [],
   "source": [
    "# changing parameters\n",
    "paramGrid_rf = ParamGridBuilder() \\\n",
    "                .addGrid(ran_for.minInstancesPerNode, [2, 5]) \\\n",
    "                .addGrid(ran_for.numTrees, [25, 35]) \\\n",
    "                .addGrid(ran_for.maxDepth, [9, 11]) \\\n",
    "                .build()"
   ]
  },
  {
   "cell_type": "code",
   "execution_count": 53,
   "metadata": {},
   "outputs": [],
   "source": [
    "# using cross validator\n",
    "cross_validator = CrossValidator(estimator = ran_for,\n",
    "                             estimatorParamMaps = paramGrid_rf,\n",
    "                             numFolds = 5,\n",
    "                             evaluator = BinaryClassificationEvaluator())"
   ]
  },
  {
   "cell_type": "code",
   "execution_count": 54,
   "metadata": {},
   "outputs": [],
   "source": [
    "# training and testing - takes very long time to run\n",
    "cross_model = cross_validator.fit(train)\n",
    "cross_results = cross_model.transform(test)"
   ]
  },
  {
   "cell_type": "code",
   "execution_count": 55,
   "metadata": {},
   "outputs": [
    {
     "name": "stdout",
     "output_type": "stream",
     "text": [
      "Accuracy:  0.76\n"
     ]
    }
   ],
   "source": [
    "# getting results\n",
    "metrics(cross_results)"
   ]
  },
  {
   "cell_type": "code",
   "execution_count": 56,
   "metadata": {
    "scrolled": true
   },
   "outputs": [
    {
     "data": {
      "text/plain": [
       "[0.612439438416668,\n",
       " 0.6103851683491152,\n",
       " 0.5626129642372527,\n",
       " 0.5651690727573082,\n",
       " 0.6169719447746014,\n",
       " 0.6169719447746014,\n",
       " 0.5848274063416379,\n",
       " 0.5848274063416379]"
      ]
     },
     "execution_count": 56,
     "metadata": {},
     "output_type": "execute_result"
    }
   ],
   "source": [
    "# getting avg metrics\n",
    "cross_model.avgMetrics"
   ]
  },
  {
   "cell_type": "markdown",
   "metadata": {},
   "source": [
    "**Conclusions**"
   ]
  },
  {
   "cell_type": "markdown",
   "metadata": {},
   "source": [
    "Using **PySpark** was a great challenge!\n",
    "\n",
    "After cleaning, exploring and identifying target features in the data, the `random forest` model performed better than the `logistic regression` for the `mini_sparkify_event_data`. Once applying cross validator and improvements in the model, I got accuracy of 76% for `random forest`.\n"
   ]
  },
  {
   "cell_type": "markdown",
   "metadata": {},
   "source": [
    "**References**\n",
    "- StakOverFlow https://stackoverflow.com/\n",
    "- Databricks https://docs.databricks.com\n",
    "- Apache Spark https://spark.apache.org/\n",
    "- DeepAI https://deepai.org/machine-learning-glossary-and-terms/f-score"
   ]
  },
  {
   "cell_type": "code",
   "execution_count": null,
   "metadata": {},
   "outputs": [],
   "source": []
  },
  {
   "cell_type": "code",
   "execution_count": null,
   "metadata": {},
   "outputs": [],
   "source": []
  }
 ],
 "metadata": {
  "kernelspec": {
   "display_name": "Python 3",
   "language": "python",
   "name": "python3"
  },
  "language_info": {
   "codemirror_mode": {
    "name": "ipython",
    "version": 3
   },
   "file_extension": ".py",
   "mimetype": "text/x-python",
   "name": "python",
   "nbconvert_exporter": "python",
   "pygments_lexer": "ipython3",
   "version": "3.7.3"
  }
 },
 "nbformat": 4,
 "nbformat_minor": 2
}
