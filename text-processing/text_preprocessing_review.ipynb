{
 "cells": [
  {
   "cell_type": "markdown",
   "metadata": {},
   "source": [
    "# Text Preprocessing Review"
   ]
  },
  {
   "cell_type": "code",
   "execution_count": 1,
   "metadata": {},
   "outputs": [
    {
     "name": "stderr",
     "output_type": "stream",
     "text": [
      "[nltk_data] Downloading package stopwords to\n",
      "[nltk_data]     /Users/msonjap/nltk_data...\n",
      "[nltk_data]   Package stopwords is already up-to-date!\n",
      "[nltk_data] Downloading package wordnet to /Users/msonjap/nltk_data...\n",
      "[nltk_data]   Unzipping corpora/wordnet.zip.\n"
     ]
    },
    {
     "data": {
      "text/plain": [
       "True"
      ]
     },
     "execution_count": 1,
     "metadata": {},
     "output_type": "execute_result"
    }
   ],
   "source": [
    "# importing libraries & packages\n",
    "import nltk\n",
    "import string\n",
    "import pandas as pd\n",
    "\n",
    "from nltk import word_tokenize, sent_tokenize\n",
    "from nltk.corpus import stopwords\n",
    "from nltk.stem.porter import *\n",
    "from nltk.stem import WordNetLemmatizer \n",
    "  \n",
    "nltk.download('stopwords')\n",
    "nltk.download('wordnet')"
   ]
  },
  {
   "cell_type": "markdown",
   "metadata": {},
   "source": [
    "## Text Data"
   ]
  },
  {
   "cell_type": "code",
   "execution_count": 2,
   "metadata": {},
   "outputs": [],
   "source": [
    "# reading data\n",
    "yelp_ratings = pd.read_csv(\"./data/yelp_ratings.csv\") #44530 samples"
   ]
  },
  {
   "cell_type": "code",
   "execution_count": 3,
   "metadata": {},
   "outputs": [
    {
     "data": {
      "text/html": [
       "<div>\n",
       "<style scoped>\n",
       "    .dataframe tbody tr th:only-of-type {\n",
       "        vertical-align: middle;\n",
       "    }\n",
       "\n",
       "    .dataframe tbody tr th {\n",
       "        vertical-align: top;\n",
       "    }\n",
       "\n",
       "    .dataframe thead th {\n",
       "        text-align: right;\n",
       "    }\n",
       "</style>\n",
       "<table border=\"1\" class=\"dataframe\">\n",
       "  <thead>\n",
       "    <tr style=\"text-align: right;\">\n",
       "      <th></th>\n",
       "      <th>text</th>\n",
       "      <th>stars</th>\n",
       "      <th>sentiment</th>\n",
       "    </tr>\n",
       "  </thead>\n",
       "  <tbody>\n",
       "    <tr>\n",
       "      <th>0</th>\n",
       "      <td>Total bill for this horrible service? Over $8G...</td>\n",
       "      <td>1.0</td>\n",
       "      <td>0</td>\n",
       "    </tr>\n",
       "    <tr>\n",
       "      <th>1</th>\n",
       "      <td>I *adore* Travis at the Hard Rock's new Kelly ...</td>\n",
       "      <td>5.0</td>\n",
       "      <td>1</td>\n",
       "    </tr>\n",
       "    <tr>\n",
       "      <th>2</th>\n",
       "      <td>I have to say that this office really has it t...</td>\n",
       "      <td>5.0</td>\n",
       "      <td>1</td>\n",
       "    </tr>\n",
       "    <tr>\n",
       "      <th>3</th>\n",
       "      <td>Went in for a lunch. Steak sandwich was delici...</td>\n",
       "      <td>5.0</td>\n",
       "      <td>1</td>\n",
       "    </tr>\n",
       "    <tr>\n",
       "      <th>4</th>\n",
       "      <td>Today was my second out of three sessions I ha...</td>\n",
       "      <td>1.0</td>\n",
       "      <td>0</td>\n",
       "    </tr>\n",
       "  </tbody>\n",
       "</table>\n",
       "</div>"
      ],
      "text/plain": [
       "                                                text  stars  sentiment\n",
       "0  Total bill for this horrible service? Over $8G...    1.0          0\n",
       "1  I *adore* Travis at the Hard Rock's new Kelly ...    5.0          1\n",
       "2  I have to say that this office really has it t...    5.0          1\n",
       "3  Went in for a lunch. Steak sandwich was delici...    5.0          1\n",
       "4  Today was my second out of three sessions I ha...    1.0          0"
      ]
     },
     "execution_count": 3,
     "metadata": {},
     "output_type": "execute_result"
    }
   ],
   "source": [
    "# printing first rows\n",
    "yelp_ratings.head()"
   ]
  },
  {
   "cell_type": "code",
   "execution_count": 4,
   "metadata": {},
   "outputs": [],
   "source": [
    "# processing data\n",
    "yelp_reviews = yelp_ratings[\"text\"].values\n",
    "yelp_reviews_labels = yelp_ratings[\"sentiment\"].values\n",
    "yelp_reviews_stars = yelp_ratings[\"stars\"].values"
   ]
  },
  {
   "cell_type": "code",
   "execution_count": 5,
   "metadata": {},
   "outputs": [
    {
     "data": {
      "text/plain": [
       "array(['Total bill for this horrible service? Over $8Gs. These crooks actually had the nerve to charge us $69 for 3 pills. I checked online the pills can be had for 19 cents EACH! Avoid Hospital ERs at all costs.',\n",
       "       \"I *adore* Travis at the Hard Rock's new Kelly Cardenas Salon!  I'm always a fan of a great blowout and no stranger to the chains that offer this service; however, Travis has taken the flawless blowout to a whole new level!  \\n\\nTravis's greets you with his perfectly green swoosh in his otherwise perfectly styled black hair and a Vegas-worthy rockstar outfit.  Next comes the most relaxing and incredible shampoo -- where you get a full head message that could cure even the very worst migraine in minutes --- and the scented shampoo room.  Travis has freakishly strong fingers (in a good way) and use the perfect amount of pressure.  That was superb!  Then starts the glorious blowout... where not one, not two, but THREE people were involved in doing the best round-brush action my hair has ever seen.  The team of stylists clearly gets along extremely well, as it's evident from the way they talk to and help one another that it's really genuine and not some corporate requirement.  It was so much fun to be there! \\n\\nNext Travis started with the flat iron.  The way he flipped his wrist to get volume all around without over-doing it and making me look like a Texas pagent girl was admirable.  It's also worth noting that he didn't fry my hair -- something that I've had happen before with less skilled stylists.  At the end of the blowout & style my hair was perfectly bouncey and looked terrific.  The only thing better?  That this awesome blowout lasted for days! \\n\\nTravis, I will see you every single time I'm out in Vegas.  You make me feel beauuuutiful!\",\n",
       "       \"I have to say that this office really has it together, they are so organized and friendly!  Dr. J. Phillipp is a great dentist, very friendly and professional.  The dental assistants that helped in my procedure were amazing, Jewel and Bailey helped me to feel comfortable!  I don't have dental insurance, but they have this insurance through their office you can purchase for $80 something a year and this gave me 25% off all of my dental work, plus they helped me get signed up for care credit which I knew nothing about before this visit!  I highly recommend this office for the nice synergy the whole office has!\",\n",
       "       \"Went in for a lunch. Steak sandwich was delicious, and the Caesar salad had an absolutely delicious dressing, with a perfect amount of dressing, and distributed perfectly across each leaf. I know I'm going on about the salad ... But it was perfect.\\n\\nDrink prices were pretty good.\\n\\nThe Server, Dawn, was friendly and accommodating. Very happy with her.\\n\\nIn summation, a great pub experience. Would go again!\",\n",
       "       'Today was my second out of three sessions I had paid for. Although my first session went well, I could tell Meredith had a particular enjoyment for her male clients over her female. However, I returned because she did my teeth fine and I was pleased with the results. When I went in today, I was in the whitening room with three other gentlemen. My appointment started out well, although, being a person who is in the service industry, I always attend to my female clientele first when a couple arrives. Unbothered by those signs, I waited my turn. She checked on me once after my original 30 minute timer to ask if I was ok. She attended my boyfriend on numerous occasions, as well as the other men, and would exit the room without even asking me or looking to see if I had any irritation. Half way through, another woman had showed up who she was explaining the deals to in the lobby. While she admits timers must be reset half way through the process, she reset my boyfriends, left, rest the gentleman furthest away from me who had time to come in, redeem his deal, get set, and gave his timer done, before me, then left, and at this point my time was at 10 minutes. So, she should have reset it 5 minutes ago, according to her. While I sat there patiently this whole time with major pain in my gums, i watched the time until the lamp shut off. Not only had she reset two others, explained deals to other guest, but she never once checked on my time. When my light turned off, I released the stance of my mouth to a more relaxed state, assuming I was only getting a thirty minute session instead of the usual 45, because she had yet to come in. At this point, the teeth formula was not only burning the gum she neglected for 25 minutes now, but it began to burn my lips. I began squealing and slapping my chair trying to get her attention from the other room in a panic. I was in so much pain, that by the time she entered the room I was already out of my chair. She finally then acknowledged me, and asked if she could put vitamin E on my gum burn (pictured below). At this point, she has treated two other gums burns, while neglecting me, and I was so irritated that I had to suffer, all I wanted was to leave. While I waited for my boyfriend, she kept harassing me about the issue. Saying, \"well burns come with teeth whitening.\" While I totally agree, and under justifiable circumstances would not be as irritate, it could have easily been avoid if she had checked on me even a second time, so I could let her know. Not only did she never check on my physical health, she couldn\\'t even take two seconds to reset the timer, which she even admitted to me. Her accuse was that she was coming in to do it, but I had the light off for a solid two minutes before I couldn\\'t stand the pain. She admitted it should be reset every 15 minutes, which means for 25 minutes she did not bother to help me at all. Her guest in the lobby then proceeded to attack me as well, simply because I wanted to leave after the way I was treated. I also expected a refund for not getting a complete session today, due to the neglect, and the fact I won\\'t be returning for my last, she had failed to do that. She was even screaming from the door, and continued to until my boyfriend and I were down the steps. I have never in my life been more appalled by a grown woman\\'s behavior, who claims to be in the business for \"10 years.\" Admit your wrongs, but don\\'t make your guest feel unwelcome because you can\\'t do you job properly.'],\n",
       "      dtype=object)"
      ]
     },
     "execution_count": 5,
     "metadata": {},
     "output_type": "execute_result"
    }
   ],
   "source": [
    "# printing sample of the data\n",
    "yelp_reviews[:5]"
   ]
  },
  {
   "cell_type": "code",
   "execution_count": 6,
   "metadata": {},
   "outputs": [
    {
     "data": {
      "text/plain": [
       "'Total bill for this horrible service? Over $8Gs. These crooks actually had the nerve to charge us $69 for 3 pills. I checked online the pills can be had for 19 cents EACH!'"
      ]
     },
     "execution_count": 6,
     "metadata": {},
     "output_type": "execute_result"
    }
   ],
   "source": [
    "# defining sentences\n",
    "raw_yelp = \"Total bill for this horrible service? Over $8Gs. These crooks actually had the nerve to charge us $69 for 3 pills. I checked online the pills can be had for 19 cents EACH!\" \n",
    "raw_yelp"
   ]
  },
  {
   "cell_type": "markdown",
   "metadata": {},
   "source": [
    "## Tokenize sentences"
   ]
  },
  {
   "cell_type": "code",
   "execution_count": 7,
   "metadata": {},
   "outputs": [
    {
     "data": {
      "text/plain": [
       "['Total bill for this horrible service?',\n",
       " 'Over $8Gs.',\n",
       " 'These crooks actually had the nerve to charge us $69 for 3 pills.',\n",
       " 'I checked online the pills can be had for 19 cents EACH!']"
      ]
     },
     "execution_count": 7,
     "metadata": {},
     "output_type": "execute_result"
    }
   ],
   "source": [
    "# separating the sentences into a list\n",
    "tokenized_sentences = sent_tokenize(raw_yelp)\n",
    "tokenized_sentences"
   ]
  },
  {
   "cell_type": "markdown",
   "metadata": {},
   "source": [
    "## Convert words to lowercase"
   ]
  },
  {
   "cell_type": "code",
   "execution_count": 8,
   "metadata": {},
   "outputs": [
    {
     "data": {
      "text/plain": [
       "'total bill for this horrible service? over $8gs. these crooks actually had the nerve to charge us $69 for 3 pills. i checked online the pills can be had for 19 cents each!'"
      ]
     },
     "execution_count": 8,
     "metadata": {},
     "output_type": "execute_result"
    }
   ],
   "source": [
    "# using \"\".lower() from string library to convert string to lowercase\n",
    "lowercase_yelp = raw_yelp.lower()\n",
    "lowercase_yelp"
   ]
  },
  {
   "cell_type": "markdown",
   "metadata": {},
   "source": [
    "## Tokenize words"
   ]
  },
  {
   "cell_type": "code",
   "execution_count": 9,
   "metadata": {},
   "outputs": [
    {
     "data": {
      "text/plain": [
       "['total',\n",
       " 'bill',\n",
       " 'for',\n",
       " 'this',\n",
       " 'horrible',\n",
       " 'service',\n",
       " '?',\n",
       " 'over',\n",
       " '$',\n",
       " '8gs',\n",
       " '.',\n",
       " 'these',\n",
       " 'crooks',\n",
       " 'actually',\n",
       " 'had',\n",
       " 'the',\n",
       " 'nerve',\n",
       " 'to',\n",
       " 'charge',\n",
       " 'us',\n",
       " '$',\n",
       " '69',\n",
       " 'for',\n",
       " '3',\n",
       " 'pills',\n",
       " '.',\n",
       " 'i',\n",
       " 'checked',\n",
       " 'online',\n",
       " 'the',\n",
       " 'pills',\n",
       " 'can',\n",
       " 'be',\n",
       " 'had',\n",
       " 'for',\n",
       " '19',\n",
       " 'cents',\n",
       " 'each',\n",
       " '!']"
      ]
     },
     "execution_count": 9,
     "metadata": {},
     "output_type": "execute_result"
    }
   ],
   "source": [
    "# tokenizing this sentence down to the word level\n",
    "tokenized_yelp = word_tokenize(lowercase_yelp)\n",
    "tokenized_yelp"
   ]
  },
  {
   "cell_type": "markdown",
   "metadata": {},
   "source": [
    "## Remove stop words and punctuation"
   ]
  },
  {
   "cell_type": "code",
   "execution_count": 10,
   "metadata": {},
   "outputs": [],
   "source": [
    "# concatenating together nltk’s list of English stop words with the string library’s list of punctuation   \n",
    "stpwrds = stopwords.words('english') + list(string.punctuation)"
   ]
  },
  {
   "cell_type": "code",
   "execution_count": 11,
   "metadata": {},
   "outputs": [
    {
     "data": {
      "text/plain": [
       "['total',\n",
       " 'bill',\n",
       " 'horrible',\n",
       " 'service',\n",
       " '8gs',\n",
       " 'crooks',\n",
       " 'actually',\n",
       " 'nerve',\n",
       " 'charge',\n",
       " 'us',\n",
       " '69',\n",
       " '3',\n",
       " 'pills',\n",
       " 'checked',\n",
       " 'online',\n",
       " 'pills',\n",
       " '19',\n",
       " 'cents']"
      ]
     },
     "execution_count": 11,
     "metadata": {},
     "output_type": "execute_result"
    }
   ],
   "source": [
    "# printing list comprehension\n",
    "stpwrds_removed = [w for w in tokenized_yelp if w not in stpwrds]\n",
    "stpwrds_removed"
   ]
  },
  {
   "cell_type": "markdown",
   "metadata": {},
   "source": [
    "### Stemming"
   ]
  },
  {
   "cell_type": "code",
   "execution_count": 12,
   "metadata": {},
   "outputs": [],
   "source": [
    "# creating an instance of the PorterStemmer() object to stem words\n",
    "stemmer = PorterStemmer()"
   ]
  },
  {
   "cell_type": "code",
   "execution_count": 13,
   "metadata": {},
   "outputs": [
    {
     "data": {
      "text/plain": [
       "['total',\n",
       " 'bill',\n",
       " 'horribl',\n",
       " 'servic',\n",
       " '8g',\n",
       " 'crook',\n",
       " 'actual',\n",
       " 'nerv',\n",
       " 'charg',\n",
       " 'us',\n",
       " '69',\n",
       " '3',\n",
       " 'pill',\n",
       " 'check',\n",
       " 'onlin',\n",
       " 'pill',\n",
       " '19',\n",
       " 'cent']"
      ]
     },
     "execution_count": 13,
     "metadata": {},
     "output_type": "execute_result"
    }
   ],
   "source": [
    "# printing list comprehension\n",
    "stemmed_sentence = [stemmer.stem(w) for w in stpwrds_removed]\n",
    "stemmed_sentence"
   ]
  },
  {
   "cell_type": "markdown",
   "metadata": {},
   "source": [
    "### Lemmatizing"
   ]
  },
  {
   "cell_type": "code",
   "execution_count": 14,
   "metadata": {},
   "outputs": [
    {
     "name": "stdout",
     "output_type": "stream",
     "text": [
      "be\n",
      "good\n"
     ]
    }
   ],
   "source": [
    "# lemmatizing\n",
    "lemmatizer = WordNetLemmatizer()\n",
    "# \"v\": verb, \"n\": noun, \"a\": adjective (default)\n",
    "print(lemmatizer.lemmatize(\"was\", pos=\"v\"))\n",
    "print(lemmatizer.lemmatize(\"better\", pos=\"a\"))"
   ]
  },
  {
   "cell_type": "code",
   "execution_count": 15,
   "metadata": {},
   "outputs": [
    {
     "data": {
      "text/plain": [
       "['total',\n",
       " 'bill',\n",
       " 'horrible',\n",
       " 'service',\n",
       " '8gs',\n",
       " 'crook',\n",
       " 'actually',\n",
       " 'nerve',\n",
       " 'charge',\n",
       " 'us',\n",
       " '69',\n",
       " '3',\n",
       " 'pills',\n",
       " 'check',\n",
       " 'online',\n",
       " 'pills',\n",
       " '19',\n",
       " 'cents']"
      ]
     },
     "execution_count": 15,
     "metadata": {},
     "output_type": "execute_result"
    }
   ],
   "source": [
    "# printing list\n",
    "[lemmatizer.lemmatize(w, pos=\"v\") for w in stpwrds_removed]"
   ]
  },
  {
   "cell_type": "markdown",
   "metadata": {},
   "source": [
    "## Processing the full corpus"
   ]
  },
  {
   "cell_type": "markdown",
   "metadata": {},
   "source": [
    "- Make lowercase, tokenize/remove puctuation and remove stop words from corpus\n",
    "\n",
    "- Use sent_tokenize() if you want sentences separated.\n",
    "\n",
    "\n",
    "```\n",
    "processed_sentences = []\n",
    "for s in sent_tokenize(sentences):\n",
    "     low_tokens = word_tokenize(s.lower())\n",
    "     processed_sentences.append([w for w in low_tokens if w not in stpwrds])\n",
    "```"
   ]
  },
  {
   "cell_type": "code",
   "execution_count": 16,
   "metadata": {},
   "outputs": [],
   "source": [
    "# don't use sent_tokenize() if you want the full string to be processed/tokenized as a whole.\n",
    "processed_sentences = []\n",
    "for s in yelp_reviews:\n",
    "    low_tokens = word_tokenize(s.lower())\n",
    "    processed_sentences.append([w for w in low_tokens if w\n",
    "                        not in stpwrds])"
   ]
  },
  {
   "cell_type": "code",
   "execution_count": 17,
   "metadata": {},
   "outputs": [
    {
     "data": {
      "text/plain": [
       "['wow',\n",
       " 'surprised',\n",
       " 'one',\n",
       " 'two',\n",
       " 'star',\n",
       " 'reviews',\n",
       " 'started',\n",
       " 'tender',\n",
       " 'calamari',\n",
       " 'although',\n",
       " 'marinara',\n",
       " 'sauce',\n",
       " 'bit',\n",
       " 'bland',\n",
       " 'touch',\n",
       " 'salt',\n",
       " 'made',\n",
       " 'right',\n",
       " 'husband',\n",
       " 'veal',\n",
       " 'peppers',\n",
       " 'said',\n",
       " 'delicious',\n",
       " 'tender',\n",
       " 'mashed',\n",
       " 'potatoes',\n",
       " 'perfect',\n",
       " 'salmon',\n",
       " 'diablo',\n",
       " 'also',\n",
       " 'delicious',\n",
       " 'salad',\n",
       " 'beautiful',\n",
       " 'dressing',\n",
       " 'served',\n",
       " 'salad',\n",
       " 'nice',\n",
       " 'amount',\n",
       " 'ended',\n",
       " 'delicious',\n",
       " 'meal',\n",
       " 'piece',\n",
       " 'tiramisu',\n",
       " 'server',\n",
       " 'matt',\n",
       " 'right',\n",
       " 'pleasant',\n",
       " 'knowledgeable',\n",
       " 'menu',\n",
       " 'appetizer',\n",
       " 'salad',\n",
       " 'entrees',\n",
       " 'timed',\n",
       " 'perfectly',\n",
       " 'love',\n",
       " 'salad',\n",
       " 'mind',\n",
       " 'entree',\n",
       " 'served',\n",
       " 'still',\n",
       " 'eating',\n",
       " 'problem',\n",
       " 'let',\n",
       " 'dinner',\n",
       " 'cool',\n",
       " 'right',\n",
       " 'temp',\n",
       " 'eat',\n",
       " 'comfortably',\n",
       " 'wonder',\n",
       " 'sometimes',\n",
       " 'people',\n",
       " \"n't\",\n",
       " 'appreciate',\n",
       " 'relaxing',\n",
       " 'taking',\n",
       " 'time',\n",
       " 'eat',\n",
       " 'wonderful',\n",
       " 'beautifully',\n",
       " 'prepared',\n",
       " 'meal',\n",
       " 'wonderful',\n",
       " 'atmosphere',\n",
       " 'relaxing',\n",
       " 'chairs',\n",
       " 'super',\n",
       " 'comfortable',\n",
       " 'certainly',\n",
       " 'back',\n",
       " 'give',\n",
       " 'try',\n",
       " \"n't\",\n",
       " 'always',\n",
       " 'go',\n",
       " 'reviews',\n",
       " 'bottle',\n",
       " 'riesling',\n",
       " 'calamari',\n",
       " 'app',\n",
       " 'two',\n",
       " 'delicious',\n",
       " 'entrees',\n",
       " 'dessert',\n",
       " '92',\n",
       " 'well']"
      ]
     },
     "execution_count": 17,
     "metadata": {},
     "output_type": "execute_result"
    }
   ],
   "source": [
    "# printing sentences\n",
    "processed_sentences[10]"
   ]
  },
  {
   "cell_type": "code",
   "execution_count": null,
   "metadata": {},
   "outputs": [],
   "source": []
  }
 ],
 "metadata": {
  "kernelspec": {
   "display_name": "Python 3",
   "language": "python",
   "name": "python3"
  },
  "language_info": {
   "codemirror_mode": {
    "name": "ipython",
    "version": 3
   },
   "file_extension": ".py",
   "mimetype": "text/x-python",
   "name": "python",
   "nbconvert_exporter": "python",
   "pygments_lexer": "ipython3",
   "version": "3.7.3"
  }
 },
 "nbformat": 4,
 "nbformat_minor": 2
}
