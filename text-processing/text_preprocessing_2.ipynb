{
 "cells": [
  {
   "cell_type": "markdown",
   "metadata": {},
   "source": [
    "# Text Preprocessing"
   ]
  },
  {
   "cell_type": "markdown",
   "metadata": {},
   "source": [
    "Converting data into a list of sentences. \n",
    "- convert the sentence to lowercase\n",
    "- tokenize\n",
    "- remove puctuation and stop words"
   ]
  },
  {
   "cell_type": "code",
   "execution_count": 1,
   "metadata": {},
   "outputs": [
    {
     "name": "stderr",
     "output_type": "stream",
     "text": [
      "[nltk_data] Downloading package stopwords to\n",
      "[nltk_data]     /Users/msonjap/nltk_data...\n",
      "[nltk_data]   Package stopwords is already up-to-date!\n"
     ]
    },
    {
     "data": {
      "text/plain": [
       "True"
      ]
     },
     "execution_count": 1,
     "metadata": {},
     "output_type": "execute_result"
    }
   ],
   "source": [
    "# importing packages & libraries\n",
    "import nltk\n",
    "import string\n",
    "\n",
    "from nltk import word_tokenize, sent_tokenize\n",
    "from nltk.corpus import stopwords\n",
    "from nltk.stem.porter import *\n",
    "\n",
    "nltk.download('stopwords')"
   ]
  },
  {
   "cell_type": "code",
   "execution_count": 2,
   "metadata": {},
   "outputs": [
    {
     "data": {
      "text/plain": [
       "'Data is now said to be the new oil, making data scientists indispensable. However, it is still a fairly new field and many non-technical professionals do not have a clear understanding of what data scientists do, why they do it and how to work with them. I spoke to Susie Sun, data scientist at WhatsApp, about what data science is, what data scientists do and how business functions should work with them. Sun understands both the commercial and the technical sides of the equation well, having started her career on the business side and completed an MBA, before transitioning to data science.'"
      ]
     },
     "execution_count": 2,
     "metadata": {},
     "output_type": "execute_result"
    }
   ],
   "source": [
    "document_data = \"Data is now said to be the new oil, making data scientists indispensable. However, it is still a fairly new field and many non-technical professionals do not have a clear understanding of what data scientists do, why they do it and how to work with them. I spoke to Susie Sun, data scientist at WhatsApp, about what data science is, what data scientists do and how business functions should work with them. Sun understands both the commercial and the technical sides of the equation well, having started her career on the business side and completed an MBA, before transitioning to data science.\"\n",
    "document_data"
   ]
  },
  {
   "cell_type": "code",
   "execution_count": 3,
   "metadata": {},
   "outputs": [
    {
     "data": {
      "text/plain": [
       "['Data is now said to be the new oil, making data scientists indispensable.',\n",
       " 'However, it is still a fairly new field and many non-technical professionals do not have a clear understanding of what data scientists do, why they do it and how to work with them.',\n",
       " 'I spoke to Susie Sun, data scientist at WhatsApp, about what data science is, what data scientists do and how business functions should work with them.',\n",
       " 'Sun understands both the commercial and the technical sides of the equation well, having started her career on the business side and completed an MBA, before transitioning to data science.']"
      ]
     },
     "execution_count": 3,
     "metadata": {},
     "output_type": "execute_result"
    }
   ],
   "source": [
    "# converting the document into a list of sentences\n",
    "sentences = sent_tokenize(document_data)\n",
    "sentences"
   ]
  },
  {
   "cell_type": "code",
   "execution_count": 4,
   "metadata": {},
   "outputs": [],
   "source": [
    "# getting the first sentence and convert it to lowercase\n",
    "lower_cased = sentences[0].lower()"
   ]
  },
  {
   "cell_type": "code",
   "execution_count": 5,
   "metadata": {},
   "outputs": [],
   "source": [
    "# tokenizing the sentence\n",
    "tokenized = word_tokenize(lower_cased)"
   ]
  },
  {
   "cell_type": "code",
   "execution_count": 6,
   "metadata": {},
   "outputs": [],
   "source": [
    "# getting the stopwords and punctuation to remove from the sentence\n",
    "stpwrds = stopwords.words('english') + list(string.punctuation)"
   ]
  },
  {
   "cell_type": "code",
   "execution_count": 7,
   "metadata": {},
   "outputs": [
    {
     "data": {
      "text/plain": [
       "['data', 'said', 'new', 'oil', 'making', 'data', 'scientists', 'indispensable']"
      ]
     },
     "execution_count": 7,
     "metadata": {},
     "output_type": "execute_result"
    }
   ],
   "source": [
    "# removing stopwords and punctuation from the sentence\n",
    "stopwords_removed = [w for w in tokenized if w not in stpwrds]\n",
    "stopwords_removed"
   ]
  },
  {
   "cell_type": "code",
   "execution_count": 8,
   "metadata": {},
   "outputs": [
    {
     "data": {
      "text/plain": [
       "8"
      ]
     },
     "execution_count": 8,
     "metadata": {},
     "output_type": "execute_result"
    }
   ],
   "source": [
    "# getting the number of words in the processed sentence\n",
    "len(stopwords_removed)"
   ]
  },
  {
   "cell_type": "code",
   "execution_count": null,
   "metadata": {},
   "outputs": [],
   "source": []
  }
 ],
 "metadata": {
  "kernelspec": {
   "display_name": "Python 3",
   "language": "python",
   "name": "python3"
  },
  "language_info": {
   "codemirror_mode": {
    "name": "ipython",
    "version": 3
   },
   "file_extension": ".py",
   "mimetype": "text/x-python",
   "name": "python",
   "nbconvert_exporter": "python",
   "pygments_lexer": "ipython3",
   "version": "3.7.3"
  }
 },
 "nbformat": 4,
 "nbformat_minor": 2
}
